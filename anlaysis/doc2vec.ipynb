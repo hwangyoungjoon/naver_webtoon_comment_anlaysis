{
 "cells": [
  {
   "cell_type": "markdown",
   "metadata": {},
   "source": [
    "# 전처리"
   ]
  },
  {
   "cell_type": "code",
   "execution_count": 133,
   "metadata": {
    "collapsed": true
   },
   "outputs": [],
   "source": [
    "import csv\n",
    "import MeCab\n",
    "import pandas as pd\n",
    "import re\n",
    "from gensim.models import doc2vec"
   ]
  },
  {
   "cell_type": "markdown",
   "metadata": {},
   "source": [
    "## 전처리를 위한 학습데이터셋 로드"
   ]
  },
  {
   "cell_type": "code",
   "execution_count": 97,
   "metadata": {},
   "outputs": [
    {
     "data": {
      "text/html": [
       "<div>\n",
       "<style>\n",
       "    .dataframe thead tr:only-child th {\n",
       "        text-align: right;\n",
       "    }\n",
       "\n",
       "    .dataframe thead th {\n",
       "        text-align: left;\n",
       "    }\n",
       "\n",
       "    .dataframe tbody tr th {\n",
       "        vertical-align: top;\n",
       "    }\n",
       "</style>\n",
       "<table border=\"1\" class=\"dataframe\">\n",
       "  <thead>\n",
       "    <tr style=\"text-align: right;\">\n",
       "      <th></th>\n",
       "      <th>comment</th>\n",
       "      <th>episode_num</th>\n",
       "      <th>sub_title</th>\n",
       "      <th>sympathy_count</th>\n",
       "      <th>title</th>\n",
       "    </tr>\n",
       "  </thead>\n",
       "  <tbody>\n",
       "    <tr>\n",
       "      <th>111285</th>\n",
       "      <td>1등</td>\n",
       "      <td>1</td>\n",
       "      <td>프롤로그</td>\n",
       "      <td>7</td>\n",
       "      <td>열정호구</td>\n",
       "    </tr>\n",
       "    <tr>\n",
       "      <th>111286</th>\n",
       "      <td>첫댓!!</td>\n",
       "      <td>1</td>\n",
       "      <td>프롤로그</td>\n",
       "      <td>6</td>\n",
       "      <td>열정호구</td>\n",
       "    </tr>\n",
       "    <tr>\n",
       "      <th>111287</th>\n",
       "      <td>오</td>\n",
       "      <td>1</td>\n",
       "      <td>프롤로그</td>\n",
       "      <td>3</td>\n",
       "      <td>열정호구</td>\n",
       "    </tr>\n",
       "    <tr>\n",
       "      <th>111288</th>\n",
       "      <td>첫플?</td>\n",
       "      <td>1</td>\n",
       "      <td>프롤로그</td>\n",
       "      <td>4</td>\n",
       "      <td>열정호구</td>\n",
       "    </tr>\n",
       "    <tr>\n",
       "      <th>111289</th>\n",
       "      <td>???</td>\n",
       "      <td>1</td>\n",
       "      <td>프롤로그</td>\n",
       "      <td>3</td>\n",
       "      <td>열정호구</td>\n",
       "    </tr>\n",
       "  </tbody>\n",
       "</table>\n",
       "</div>"
      ],
      "text/plain": [
       "       comment  episode_num sub_title  sympathy_count  title\n",
       "111285      1등            1      프롤로그               7  열정호구 \n",
       "111286    첫댓!!            1      프롤로그               6  열정호구 \n",
       "111287       오            1      프롤로그               3  열정호구 \n",
       "111288     첫플?            1      프롤로그               4  열정호구 \n",
       "111289     ???            1      프롤로그               3  열정호구 "
      ]
     },
     "execution_count": 97,
     "metadata": {},
     "output_type": "execute_result"
    }
   ],
   "source": [
    "train_docs=pd.read_csv('./out_put1.csv',encoding=\"cp949\")\n",
    "train_docs=train_docs.dropna()\n",
    "del train_docs[\"Unnamed: 0\"]\n",
    "\n",
    "train_docs.tail()"
   ]
  },
  {
   "cell_type": "code",
   "execution_count": 130,
   "metadata": {
    "collapsed": true
   },
   "outputs": [],
   "source": [
    "pos_ptn=re.compile(r'.+\\t[NVM][A-Z]{1,2}') # pos tagging 패턴\n",
    "remove_ptn=re.compile(r'[^a-zㄱ-힣]') # 불용어 패턴\n",
    "mecab=MeCab.Tagger()  # mecab 사전 정의\n"
   ]
  },
  {
   "cell_type": "markdown",
   "metadata": {},
   "source": [
    "## pos tagging"
   ]
  },
  {
   "cell_type": "code",
   "execution_count": 99,
   "metadata": {
    "collapsed": true
   },
   "outputs": [],
   "source": [
    "def pos_tagging(doc):\n",
    "    doc=remove_ptn.sub(' ', doc)\n",
    "    parse_doc=mecab.parse(doc)\n",
    "    pos_doc=pos_ptn.finditer(parse_doc)\n",
    "    \n",
    "    return [x[0].replace('\\t','\\\\') for x in pos_doc]"
   ]
  },
  {
   "cell_type": "code",
   "execution_count": 100,
   "metadata": {
    "scrolled": true
   },
   "outputs": [
    {
     "data": {
      "text/html": [
       "<div>\n",
       "<style>\n",
       "    .dataframe thead tr:only-child th {\n",
       "        text-align: right;\n",
       "    }\n",
       "\n",
       "    .dataframe thead th {\n",
       "        text-align: left;\n",
       "    }\n",
       "\n",
       "    .dataframe tbody tr th {\n",
       "        vertical-align: top;\n",
       "    }\n",
       "</style>\n",
       "<table border=\"1\" class=\"dataframe\">\n",
       "  <thead>\n",
       "    <tr style=\"text-align: right;\">\n",
       "      <th></th>\n",
       "      <th>comment</th>\n",
       "      <th>episode_num</th>\n",
       "      <th>sub_title</th>\n",
       "      <th>sympathy_count</th>\n",
       "      <th>title</th>\n",
       "      <th>prep_docs</th>\n",
       "      <th>idx</th>\n",
       "    </tr>\n",
       "  </thead>\n",
       "  <tbody>\n",
       "    <tr>\n",
       "      <th>111285</th>\n",
       "      <td>1등</td>\n",
       "      <td>1</td>\n",
       "      <td>프롤로그</td>\n",
       "      <td>7</td>\n",
       "      <td>열정호구</td>\n",
       "      <td>[등\\NNG]</td>\n",
       "      <td>111285</td>\n",
       "    </tr>\n",
       "    <tr>\n",
       "      <th>111286</th>\n",
       "      <td>첫댓!!</td>\n",
       "      <td>1</td>\n",
       "      <td>프롤로그</td>\n",
       "      <td>6</td>\n",
       "      <td>열정호구</td>\n",
       "      <td>[첫\\MM, 댓\\NR]</td>\n",
       "      <td>111286</td>\n",
       "    </tr>\n",
       "    <tr>\n",
       "      <th>111287</th>\n",
       "      <td>오</td>\n",
       "      <td>1</td>\n",
       "      <td>프롤로그</td>\n",
       "      <td>3</td>\n",
       "      <td>열정호구</td>\n",
       "      <td>[오\\NR]</td>\n",
       "      <td>111287</td>\n",
       "    </tr>\n",
       "    <tr>\n",
       "      <th>111288</th>\n",
       "      <td>첫플?</td>\n",
       "      <td>1</td>\n",
       "      <td>프롤로그</td>\n",
       "      <td>4</td>\n",
       "      <td>열정호구</td>\n",
       "      <td>[첫\\MM, 플\\NNG]</td>\n",
       "      <td>111288</td>\n",
       "    </tr>\n",
       "    <tr>\n",
       "      <th>111289</th>\n",
       "      <td>???</td>\n",
       "      <td>1</td>\n",
       "      <td>프롤로그</td>\n",
       "      <td>3</td>\n",
       "      <td>열정호구</td>\n",
       "      <td>[]</td>\n",
       "      <td>111289</td>\n",
       "    </tr>\n",
       "  </tbody>\n",
       "</table>\n",
       "</div>"
      ],
      "text/plain": [
       "       comment  episode_num sub_title  sympathy_count  title      prep_docs  \\\n",
       "111285      1등            1      프롤로그               7  열정호구         [등\\NNG]   \n",
       "111286    첫댓!!            1      프롤로그               6  열정호구    [첫\\MM, 댓\\NR]   \n",
       "111287       오            1      프롤로그               3  열정호구          [오\\NR]   \n",
       "111288     첫플?            1      프롤로그               4  열정호구   [첫\\MM, 플\\NNG]   \n",
       "111289     ???            1      프롤로그               3  열정호구              []   \n",
       "\n",
       "           idx  \n",
       "111285  111285  \n",
       "111286  111286  \n",
       "111287  111287  \n",
       "111288  111288  \n",
       "111289  111289  "
      ]
     },
     "execution_count": 100,
     "metadata": {},
     "output_type": "execute_result"
    }
   ],
   "source": [
    "pos_docs = [pos_tagging(doc) for doc in train_docs['comment']]\n",
    "train_docs['prep_docs'] = pos_docs\n",
    "train_docs = train_docs.dropna()\n",
    "idx=[indx for indx in range(len(train_docs)) ]\n",
    "train_docs[\"idx\"]=idx\n",
    "train_docs.index = range(len(train_docs))\n",
    "train_docs.tail()"
   ]
  },
  {
   "cell_type": "code",
   "execution_count": 101,
   "metadata": {},
   "outputs": [
    {
     "data": {
      "text/plain": [
       "['각혈..?', 63, '62화 다짐', 0, '열정호구 ', ['각혈\\\\NNG'], 10]"
      ]
     },
     "execution_count": 101,
     "metadata": {},
     "output_type": "execute_result"
    }
   ],
   "source": [
    "train_docs.iloc[10].tolist()"
   ]
  },
  {
   "cell_type": "markdown",
   "metadata": {},
   "source": [
    "## Dco2vec 입력객체 생성"
   ]
  },
  {
   "cell_type": "code",
   "execution_count": 102,
   "metadata": {
    "collapsed": true
   },
   "outputs": [],
   "source": [
    "def doc2vec_labeler(docs):\n",
    "    labeled_docs= list()\n",
    "    for i in range(len(docs)):\n",
    "        doc=docs.iloc[i].tolist()\n",
    "        words=doc[5]   #prep_docs\n",
    "        labels=[str(doc[6])]  # 문서번호 idx\n",
    "        sentence=doc2vec.TaggedDocument(words=words,tags=labels)\n",
    "        labeled_docs.append(sentence)\n",
    "    return labeled_docs"
   ]
  },
  {
   "cell_type": "code",
   "execution_count": 103,
   "metadata": {
    "collapsed": true
   },
   "outputs": [],
   "source": [
    "train_labeled_docs=doc2vec_labeler(train_docs)"
   ]
  },
  {
   "cell_type": "code",
   "execution_count": 104,
   "metadata": {},
   "outputs": [
    {
     "data": {
      "text/plain": [
       "TaggedDocument(words=['망\\\\NNG', '미안\\\\NNG', '널\\\\NP', '잊\\\\VV', '있\\\\VX'], tags=['100'])"
      ]
     },
     "execution_count": 104,
     "metadata": {},
     "output_type": "execute_result"
    }
   ],
   "source": [
    "train_labeled_docs[100]"
   ]
  },
  {
   "cell_type": "markdown",
   "metadata": {},
   "source": [
    "## 모델 하이퍼파라미터 설정 및 학습"
   ]
  },
  {
   "cell_type": "markdown",
   "metadata": {},
   "source": [
    "- DBOW 모델 사용"
   ]
  },
  {
   "cell_type": "code",
   "execution_count": 137,
   "metadata": {},
   "outputs": [
    {
     "data": {
      "text/plain": [
       "5"
      ]
     },
     "execution_count": 137,
     "metadata": {},
     "output_type": "execute_result"
    }
   ],
   "source": [
    "model.iter"
   ]
  },
  {
   "cell_type": "code",
   "execution_count": 139,
   "metadata": {
    "collapsed": true
   },
   "outputs": [],
   "source": [
    "model=doc2vec.Doc2Vec(window=5,size=100,alpha=0.1,min_alpha=0.01,dm=0,\n",
    "                     min_count=3,workers=4)\n",
    "model.build_vocab(train_labeled_docs)"
   ]
  },
  {
   "cell_type": "code",
   "execution_count": 141,
   "metadata": {},
   "outputs": [
    {
     "data": {
      "text/plain": [
       "11833324"
      ]
     },
     "execution_count": 141,
     "metadata": {},
     "output_type": "execute_result"
    }
   ],
   "source": [
    "model.train(train_labeled_docs,total_examples=model.corpus_count,epochs=10)"
   ]
  },
  {
   "cell_type": "markdown",
   "metadata": {},
   "source": [
    "## 학습결과 확인"
   ]
  },
  {
   "cell_type": "markdown",
   "metadata": {},
   "source": [
    "### 단어 유사도 확인"
   ]
  },
  {
   "cell_type": "markdown",
   "metadata": {},
   "source": [
    "- word order를 무시한것이라 단어벡터는 직관과 어긋나는 결과를 보임"
   ]
  },
  {
   "cell_type": "code",
   "execution_count": 142,
   "metadata": {
    "scrolled": true
   },
   "outputs": [
    {
     "data": {
      "text/plain": [
       "[('쥬\\\\NNP', 0.40914279222488403),\n",
       " ('엉덩이\\\\NNG', 0.40528446435928345),\n",
       " ('뻥\\\\MAG', 0.39052295684814453),\n",
       " ('초래\\\\NNG', 0.35559284687042236),\n",
       " ('한\\\\NNP', 0.33940592408180237),\n",
       " ('대할\\\\VV', 0.3247053027153015),\n",
       " ('들으니\\\\VV', 0.32371944189071655),\n",
       " ('한발\\\\NNG', 0.32245540618896484),\n",
       " ('비례\\\\NNG', 0.32105886936187744),\n",
       " ('상의\\\\NNG', 0.3195545971393585)]"
      ]
     },
     "execution_count": 142,
     "metadata": {},
     "output_type": "execute_result"
    }
   ],
   "source": [
    "model.wv.most_similar('좁쌀\\\\NNG')"
   ]
  },
  {
   "cell_type": "markdown",
   "metadata": {},
   "source": [
    "## 테스트 데이터셋 로드 및 pos tagging"
   ]
  },
  {
   "cell_type": "code",
   "execution_count": 108,
   "metadata": {},
   "outputs": [
    {
     "name": "stderr",
     "output_type": "stream",
     "text": [
      "C:\\ProgramData\\Anaconda3\\lib\\site-packages\\ipykernel_launcher.py:3: SettingWithCopyWarning: \n",
      "A value is trying to be set on a copy of a slice from a DataFrame.\n",
      "Try using .loc[row_indexer,col_indexer] = value instead\n",
      "\n",
      "See the caveats in the documentation: http://pandas.pydata.org/pandas-docs/stable/indexing.html#indexing-view-versus-copy\n",
      "  This is separate from the ipykernel package so we can avoid doing imports until\n"
     ]
    },
    {
     "data": {
      "text/html": [
       "<div>\n",
       "<style>\n",
       "    .dataframe thead tr:only-child th {\n",
       "        text-align: right;\n",
       "    }\n",
       "\n",
       "    .dataframe thead th {\n",
       "        text-align: left;\n",
       "    }\n",
       "\n",
       "    .dataframe tbody tr th {\n",
       "        vertical-align: top;\n",
       "    }\n",
       "</style>\n",
       "<table border=\"1\" class=\"dataframe\">\n",
       "  <thead>\n",
       "    <tr style=\"text-align: right;\">\n",
       "      <th></th>\n",
       "      <th>comment</th>\n",
       "      <th>episode_num</th>\n",
       "      <th>sub_title</th>\n",
       "      <th>sympathy_count</th>\n",
       "      <th>title</th>\n",
       "      <th>prep_docs</th>\n",
       "      <th>idx</th>\n",
       "    </tr>\n",
       "  </thead>\n",
       "  <tbody>\n",
       "    <tr>\n",
       "      <th>795</th>\n",
       "      <td>분량?</td>\n",
       "      <td>64</td>\n",
       "      <td>63화 5개월</td>\n",
       "      <td>0</td>\n",
       "      <td>열정호구</td>\n",
       "      <td>[분량\\NNG]</td>\n",
       "      <td>795</td>\n",
       "    </tr>\n",
       "    <tr>\n",
       "      <th>796</th>\n",
       "      <td>외주가 문제냐 병원 좀 가라 하시는데\\n병원비는 어쩔 거고 병원 가느라 외주 못 해...</td>\n",
       "      <td>64</td>\n",
       "      <td>63화 5개월</td>\n",
       "      <td>1</td>\n",
       "      <td>열정호구</td>\n",
       "      <td>[외주\\NNG, 문제\\NNG, 냐\\VCP, 병원\\NNG, 좀\\MAG, 가\\VV, 하...</td>\n",
       "      <td>796</td>\n",
       "    </tr>\n",
       "    <tr>\n",
       "      <th>797</th>\n",
       "      <td>결핵은 아니것지 설마 ㅜㅜ</td>\n",
       "      <td>64</td>\n",
       "      <td>63화 5개월</td>\n",
       "      <td>0</td>\n",
       "      <td>열정호구</td>\n",
       "      <td>[결핵\\NNG, 아니\\VCN, 설마\\MAG]</td>\n",
       "      <td>797</td>\n",
       "    </tr>\n",
       "    <tr>\n",
       "      <th>798</th>\n",
       "      <td>그놈의 돈 시바.. 난 진짜 부자 아니면 자식 안가져야지</td>\n",
       "      <td>64</td>\n",
       "      <td>63화 5개월</td>\n",
       "      <td>0</td>\n",
       "      <td>열정호구</td>\n",
       "      <td>[그놈\\NP, 돈\\NNG, 시바\\NNG, 난\\NP, 진짜\\MAG, 부자\\NNG, 아...</td>\n",
       "      <td>798</td>\n",
       "    </tr>\n",
       "    <tr>\n",
       "      <th>799</th>\n",
       "      <td>너 갑자기 왜죽냐?</td>\n",
       "      <td>64</td>\n",
       "      <td>63화 5개월</td>\n",
       "      <td>0</td>\n",
       "      <td>열정호구</td>\n",
       "      <td>[너\\NP, 갑자기\\MAG, 왜\\MAG, 죽\\VV]</td>\n",
       "      <td>799</td>\n",
       "    </tr>\n",
       "  </tbody>\n",
       "</table>\n",
       "</div>"
      ],
      "text/plain": [
       "                                               comment  episode_num sub_title  \\\n",
       "795                                                분량?           64   63화 5개월   \n",
       "796  외주가 문제냐 병원 좀 가라 하시는데\\n병원비는 어쩔 거고 병원 가느라 외주 못 해...           64   63화 5개월   \n",
       "797                                     결핵은 아니것지 설마 ㅜㅜ           64   63화 5개월   \n",
       "798                    그놈의 돈 시바.. 난 진짜 부자 아니면 자식 안가져야지           64   63화 5개월   \n",
       "799                                         너 갑자기 왜죽냐?           64   63화 5개월   \n",
       "\n",
       "     sympathy_count  title                                          prep_docs  \\\n",
       "795               0  열정호구                                            [분량\\NNG]   \n",
       "796               1  열정호구   [외주\\NNG, 문제\\NNG, 냐\\VCP, 병원\\NNG, 좀\\MAG, 가\\VV, 하...   \n",
       "797               0  열정호구                            [결핵\\NNG, 아니\\VCN, 설마\\MAG]   \n",
       "798               0  열정호구   [그놈\\NP, 돈\\NNG, 시바\\NNG, 난\\NP, 진짜\\MAG, 부자\\NNG, 아...   \n",
       "799               0  열정호구                        [너\\NP, 갑자기\\MAG, 왜\\MAG, 죽\\VV]   \n",
       "\n",
       "     idx  \n",
       "795  795  \n",
       "796  796  \n",
       "797  797  \n",
       "798  798  \n",
       "799  799  "
      ]
     },
     "execution_count": 108,
     "metadata": {},
     "output_type": "execute_result"
    }
   ],
   "source": [
    "test_docs=train_docs[:800]\n",
    "idx=[indx for indx in range(len(test_docs)) ]\n",
    "test_docs[\"idx\"]=idx\n",
    "test_docs.index=range(len(test_docs))\n",
    "test_docs.tail()"
   ]
  },
  {
   "cell_type": "code",
   "execution_count": 128,
   "metadata": {
    "collapsed": true
   },
   "outputs": [],
   "source": [
    "def get_pred_result(doc,train_docs,topn=5,verbose=False):\n",
    "    doc_content=doc[5]\n",
    "    doc_label=doc[6]\n",
    "    doc_episode=doc[1]\n",
    "    infer_vector=model.infer_vector(doc_content)\n",
    "    \n",
    "    \n",
    "    similar_res = [x for x in model.docvecs.most_similar([infer_vector], topn=topn)]\n",
    "    similar_ids = [x[0] for x in similar_res]\n",
    "    similar_scores=[x[1] for x in similar_res]\n",
    "    similar_docs=train_docs[train_docs['idx'].isin(similar_ids)][[\"comment\", \"episode_num\"]]\n",
    "    similar_docs[\"score\"]=similar_scores\n",
    "    \n",
    "    if verbose:\n",
    "        print('input content:', doc[0],'\\nlabel:', doc_label)\n",
    "        similar_docs.columns = ['most similar documents', 'episode', 'similarity score']\n",
    "        return similar_docs"
   ]
  },
  {
   "cell_type": "code",
   "execution_count": 129,
   "metadata": {},
   "outputs": [
    {
     "name": "stdout",
     "output_type": "stream",
     "text": [
      "input content: 이름이 생망이라고 진짜 생망하게 하지 말았으면 좋겠다 \n",
      "label: 650\n"
     ]
    },
    {
     "data": {
      "text/html": [
       "<div>\n",
       "<style>\n",
       "    .dataframe thead tr:only-child th {\n",
       "        text-align: right;\n",
       "    }\n",
       "\n",
       "    .dataframe thead th {\n",
       "        text-align: left;\n",
       "    }\n",
       "\n",
       "    .dataframe tbody tr th {\n",
       "        vertical-align: top;\n",
       "    }\n",
       "</style>\n",
       "<table border=\"1\" class=\"dataframe\">\n",
       "  <thead>\n",
       "    <tr style=\"text-align: right;\">\n",
       "      <th></th>\n",
       "      <th>most similar documents</th>\n",
       "      <th>episode</th>\n",
       "      <th>similarity score</th>\n",
       "    </tr>\n",
       "  </thead>\n",
       "  <tbody>\n",
       "    <tr>\n",
       "      <th>650</th>\n",
       "      <td>이름이 생망이라고 진짜 생망하게 하지 말았으면 좋겠다</td>\n",
       "      <td>64</td>\n",
       "      <td>0.799823</td>\n",
       "    </tr>\n",
       "    <tr>\n",
       "      <th>101281</th>\n",
       "      <td>야 은지작가가 그렇게좋으면 결혼해 이 멍멍이자슥아1</td>\n",
       "      <td>3</td>\n",
       "      <td>0.780192</td>\n",
       "    </tr>\n",
       "    <tr>\n",
       "      <th>101373</th>\n",
       "      <td>니 은지 좋아하냐?</td>\n",
       "      <td>3</td>\n",
       "      <td>0.776412</td>\n",
       "    </tr>\n",
       "    <tr>\n",
       "      <th>102428</th>\n",
       "      <td>편집자 은지 좋아함?ㅋㅋㅋ은지씨 하면서 볼이 붉어져ㅋㅋㅋ</td>\n",
       "      <td>3</td>\n",
       "      <td>0.773035</td>\n",
       "    </tr>\n",
       "    <tr>\n",
       "      <th>104620</th>\n",
       "      <td>편집장 은지 좋아한다에 1표</td>\n",
       "      <td>4</td>\n",
       "      <td>0.771794</td>\n",
       "    </tr>\n",
       "  </tbody>\n",
       "</table>\n",
       "</div>"
      ],
      "text/plain": [
       "                 most similar documents  episode  similarity score\n",
       "650       이름이 생망이라고 진짜 생망하게 하지 말았으면 좋겠다       64          0.799823\n",
       "101281     야 은지작가가 그렇게좋으면 결혼해 이 멍멍이자슥아1        3          0.780192\n",
       "101373                       니 은지 좋아하냐?        3          0.776412\n",
       "102428  편집자 은지 좋아함?ㅋㅋㅋ은지씨 하면서 볼이 붉어져ㅋㅋㅋ        3          0.773035\n",
       "104620                  편집장 은지 좋아한다에 1표        4          0.771794"
      ]
     },
     "execution_count": 129,
     "metadata": {},
     "output_type": "execute_result"
    }
   ],
   "source": [
    "get_pred_result(test_docs.iloc[650],train_docs,verbose=True)"
   ]
  },
  {
   "cell_type": "code",
   "execution_count": null,
   "metadata": {
    "collapsed": true
   },
   "outputs": [],
   "source": []
  }
 ],
 "metadata": {
  "kernelspec": {
   "display_name": "Python 3",
   "language": "python",
   "name": "python3"
  },
  "language_info": {
   "codemirror_mode": {
    "name": "ipython",
    "version": 3
   },
   "file_extension": ".py",
   "mimetype": "text/x-python",
   "name": "python",
   "nbconvert_exporter": "python",
   "pygments_lexer": "ipython3",
   "version": "3.6.3"
  }
 },
 "nbformat": 4,
 "nbformat_minor": 2
}
