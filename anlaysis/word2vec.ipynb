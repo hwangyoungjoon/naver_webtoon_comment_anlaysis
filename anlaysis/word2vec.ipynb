{
 "cells": [
  {
   "cell_type": "markdown",
   "metadata": {},
   "source": [
    "# webtoon_anlaysis"
   ]
  },
  {
   "cell_type": "markdown",
   "metadata": {},
   "source": [
    "___\n",
    "### start of fining data"
   ]
  },
  {
   "cell_type": "code",
   "execution_count": 129,
   "metadata": {
    "collapsed": true
   },
   "outputs": [],
   "source": [
    "import csv\n",
    "import MeCab\n",
    "import pandas"
   ]
  },
  {
   "cell_type": "code",
   "execution_count": 130,
   "metadata": {
    "scrolled": true
   },
   "outputs": [
    {
     "name": "stdout",
     "output_type": "stream",
     "text": [
      "[('잘 되었음 좋겠어요~ 주인공 소연이..', 63), ('핫식스 저렇게 먹으면 없어도 병 없어도 피토하겠다', 63)]\n"
     ]
    }
   ],
   "source": [
    "def read_data(filename):\n",
    "    with open(filename, 'r',encoding=\"cp949\") as f:\n",
    "        reader=csv.reader(f)\n",
    "        lines=list(reader)\n",
    "        data=[(line[1].replace(\"\\n\",\"\"),int(line[2])) for line in lines[1:]]\n",
    "        print(data[:2])\n",
    "        texts,ok_points=zip(*data)\n",
    "        return texts,ok_points\n",
    "              \n",
    "        \n",
    "        \n",
    "texts, ok_points = read_data('out_put1.csv')\n"
   ]
  },
  {
   "cell_type": "code",
   "execution_count": 131,
   "metadata": {},
   "outputs": [
    {
     "data": {
      "text/plain": [
       "(('오', '첫플?', '???'), (1, 1, 1))"
      ]
     },
     "execution_count": 131,
     "metadata": {},
     "output_type": "execute_result"
    }
   ],
   "source": [
    "texts[-3:],ok_points[-3:]"
   ]
  },
  {
   "cell_type": "code",
   "execution_count": 132,
   "metadata": {
    "scrolled": false
   },
   "outputs": [
    {
     "data": {
      "text/plain": [
       "111290"
      ]
     },
     "execution_count": 132,
     "metadata": {},
     "output_type": "execute_result"
    }
   ],
   "source": [
    "len(texts)"
   ]
  },
  {
   "cell_type": "markdown",
   "metadata": {},
   "source": [
    "### 11만개의 열정호구 댓글을 크롤링 하였음"
   ]
  },
  {
   "cell_type": "markdown",
   "metadata": {},
   "source": [
    "### start of word2vec\n",
    "___\n",
    "\n",
    "* mecap 토크나이저 이용\n"
   ]
  },
  {
   "cell_type": "code",
   "execution_count": 133,
   "metadata": {
    "collapsed": true
   },
   "outputs": [],
   "source": [
    "import MeCab\n",
    "import re"
   ]
  },
  {
   "cell_type": "code",
   "execution_count": 134,
   "metadata": {
    "collapsed": true
   },
   "outputs": [],
   "source": [
    "t = MeCab.Tagger()"
   ]
  },
  {
   "cell_type": "code",
   "execution_count": 135,
   "metadata": {
    "collapsed": true
   },
   "outputs": [],
   "source": [
    "def mecab_NN_parse(text):\n",
    "    parse_filter = re.compile(r'\\S{2,8}\\tNN')\n",
    "    prep_text = parse_filter.findall(t.parse(text))\n",
    "    nouns_text = [x.replace('\\tNN', '') for x in prep_text]\n",
    "    return nouns_text"
   ]
  },
  {
   "cell_type": "code",
   "execution_count": 136,
   "metadata": {},
   "outputs": [
    {
     "name": "stdout",
     "output_type": "stream",
     "text": [
      "111289\r"
     ]
    }
   ],
   "source": [
    "prep_train1= list()\n",
    "count = 0\n",
    "for each_data in texts:\n",
    "    doc = each_data\n",
    "    prep_doc = mecab_NN_parse(doc)\n",
    "    if len(prep_doc) > 0: prep_train1.append(prep_doc)\n",
    "    count += 1\n",
    "    if count%10000==0 or count==len(texts)-1: print(count, end='\\r')"
   ]
  },
  {
   "cell_type": "code",
   "execution_count": 137,
   "metadata": {
    "collapsed": true
   },
   "outputs": [],
   "source": [
    "from gensim.models import Word2Vec\n",
    "\n",
    "word2vec_model  = Word2Vec(prep_train1,\n",
    "                          size=100,\n",
    "                          alpha=0.025,\n",
    "                          sg=0,\n",
    "                          window=5,\n",
    "                          min_count=5, \n",
    "                          workers=4,\n",
    "                          negative=5)"
   ]
  },
  {
   "cell_type": "code",
   "execution_count": 138,
   "metadata": {
    "scrolled": true
   },
   "outputs": [
    {
     "name": "stderr",
     "output_type": "stream",
     "text": [
      "C:\\ProgramData\\Anaconda3\\lib\\site-packages\\ipykernel_launcher.py:1: DeprecationWarning: Call to deprecated `most_similar` (Method will be removed in 4.0.0, use self.wv.most_similar() instead).\n",
      "  \"\"\"Entry point for launching an IPython kernel.\n"
     ]
    },
    {
     "data": {
      "text/plain": [
       "[('편집장', 0.9428114891052246),\n",
       " ('닷컴', 0.9028921723365784),\n",
       " ('여드름', 0.8865536451339722),\n",
       " ('좁살', 0.8748573660850525),\n",
       " ('얼굴', 0.8439409732818604)]"
      ]
     },
     "execution_count": 138,
     "metadata": {},
     "output_type": "execute_result"
    }
   ],
   "source": [
    "word2vec_model.most_similar(\"좁쌀\",topn=5)"
   ]
  },
  {
   "cell_type": "code",
   "execution_count": 139,
   "metadata": {
    "scrolled": true
   },
   "outputs": [
    {
     "name": "stderr",
     "output_type": "stream",
     "text": [
      "C:\\ProgramData\\Anaconda3\\lib\\site-packages\\ipykernel_launcher.py:1: DeprecationWarning: Call to deprecated `most_similar` (Method will be removed in 4.0.0, use self.wv.most_similar() instead).\n",
      "  \"\"\"Entry point for launching an IPython kernel.\n"
     ]
    },
    {
     "data": {
      "text/plain": [
       "[('에이핑크', 0.8646122217178345),\n",
       " ('지은', 0.8574443459510803),\n",
       " ('바라기', 0.8014800548553467),\n",
       " ('포켓몬', 0.7979512214660645),\n",
       " ('초롱', 0.790814995765686)]"
      ]
     },
     "execution_count": 139,
     "metadata": {},
     "output_type": "execute_result"
    }
   ],
   "source": [
    "word2vec_model.most_similar(\"은지\",topn=5)"
   ]
  },
  {
   "cell_type": "code",
   "execution_count": 140,
   "metadata": {
    "scrolled": true
   },
   "outputs": [
    {
     "name": "stderr",
     "output_type": "stream",
     "text": [
      "C:\\ProgramData\\Anaconda3\\lib\\site-packages\\ipykernel_launcher.py:1: DeprecationWarning: Call to deprecated `most_similar` (Method will be removed in 4.0.0, use self.wv.most_similar() instead).\n",
      "  \"\"\"Entry point for launching an IPython kernel.\n"
     ]
    },
    {
     "data": {
      "text/plain": [
       "[('업무', 0.9887537956237793),\n",
       " ('계약', 0.986021101474762),\n",
       " ('연봉', 0.9846107363700867),\n",
       " ('복지', 0.9829648733139038),\n",
       " ('시급', 0.98256516456604)]"
      ]
     },
     "execution_count": 140,
     "metadata": {},
     "output_type": "execute_result"
    }
   ],
   "source": [
    "word2vec_model.most_similar(\"인턴\",topn=5)"
   ]
  },
  {
   "cell_type": "code",
   "execution_count": 141,
   "metadata": {},
   "outputs": [
    {
     "name": "stderr",
     "output_type": "stream",
     "text": [
      "C:\\ProgramData\\Anaconda3\\lib\\site-packages\\ipykernel_launcher.py:1: DeprecationWarning: Call to deprecated `most_similar` (Method will be removed in 4.0.0, use self.wv.most_similar() instead).\n",
      "  \"\"\"Entry point for launching an IPython kernel.\n"
     ]
    },
    {
     "data": {
      "text/plain": [
       "[('계약직', 0.9900237321853638),\n",
       " ('비정규직', 0.9825351238250732),\n",
       " ('개월', 0.9820199608802795),\n",
       " ('입사', 0.9549311399459839),\n",
       " ('전환', 0.9549287557601929)]"
      ]
     },
     "execution_count": 141,
     "metadata": {},
     "output_type": "execute_result"
    }
   ],
   "source": [
    "word2vec_model.most_similar(\"정규직\",topn=5)"
   ]
  },
  {
   "cell_type": "markdown",
   "metadata": {},
   "source": [
    "___\n",
    "### end of word2vec"
   ]
  },
  {
   "cell_type": "markdown",
   "metadata": {},
   "source": [
    "### start of clustering\n",
    "___"
   ]
  },
  {
   "cell_type": "code",
   "execution_count": 142,
   "metadata": {
    "collapsed": true
   },
   "outputs": [],
   "source": [
    "from sklearn.cluster import KMeans\n",
    "from sklearn.preprocessing import normalize\n",
    "import matplotlib.pyplot as plt\n",
    "import seaborn as sns"
   ]
  },
  {
   "cell_type": "code",
   "execution_count": 143,
   "metadata": {},
   "outputs": [
    {
     "data": {
      "text/plain": [
       "(5374, 100)"
      ]
     },
     "execution_count": 143,
     "metadata": {},
     "output_type": "execute_result"
    }
   ],
   "source": [
    "word2vec_model.wv.syn0.shape"
   ]
  },
  {
   "cell_type": "code",
   "execution_count": 144,
   "metadata": {
    "collapsed": true
   },
   "outputs": [],
   "source": [
    "word2vec_mecap=normalize(word2vec_model.wv.syn0,axis=1,norm=\"l2\")"
   ]
  },
  {
   "cell_type": "code",
   "execution_count": 145,
   "metadata": {},
   "outputs": [
    {
     "name": "stdout",
     "output_type": "stream",
     "text": [
      "kmeans.fit_predict()\n",
      "kmeans.fit_transform()\n",
      "Wall time: 521 ms\n"
     ]
    }
   ],
   "source": [
    "%%time\n",
    "kmeans=KMeans(n_clusters=10,max_iter=300, n_init=2,verbose=0)\n",
    "print('kmeans.fit_predict()')\n",
    "clusters=kmeans.fit_predict(word2vec_mecap)\n",
    "print('kmeans.fit_transform()')\n",
    "distance = kmeans.fit_transform(word2vec_mecap)"
   ]
  },
  {
   "cell_type": "code",
   "execution_count": 146,
   "metadata": {
    "scrolled": true
   },
   "outputs": [
    {
     "name": "stdout",
     "output_type": "stream",
     "text": [
      "cluster # 3 has 169 words\n",
      "cluster # 2 has 95 words\n",
      "cluster # 5 has 234 words\n",
      "cluster # 6 has 531 words\n",
      "cluster # 0 has 188 words\n",
      "cluster # 8 has 249 words\n",
      "cluster # 4 has 967 words\n",
      "cluster # 1 has 1454 words\n",
      "cluster # 9 has 681 words\n",
      "cluster # 7 has 806 words\n"
     ]
    }
   ],
   "source": [
    "from collections import defaultdict\n",
    "\n",
    "cluster_to_row = defaultdict(lambda: [])\n",
    "for row_id, label in enumerate(clusters):\n",
    "     cluster_to_row[label].append(row_id)\n",
    "    \n",
    "cluster_to_row = dict(cluster_to_row)\n",
    "for label, rows in cluster_to_row.items():\n",
    "    print('cluster # %d has %d words' % (label, len(rows)))"
   ]
  },
  {
   "cell_type": "code",
   "execution_count": 147,
   "metadata": {
    "collapsed": true
   },
   "outputs": [],
   "source": [
    "voc=word2vec_model.wv.index2word"
   ]
  },
  {
   "cell_type": "code",
   "execution_count": 148,
   "metadata": {},
   "outputs": [
    {
     "name": "stdout",
     "output_type": "stream",
     "text": [
      "\n",
      "cluster # 3\n",
      "  > 사람\n",
      "  > 부모\n",
      "  > 생각\n",
      "  > 가족\n",
      "  > 주인공\n",
      "  > 친구\n",
      "  > 정도\n",
      "  > 자식\n",
      "\n",
      "cluster # 2\n",
      "  > 회사\n",
      "  > 퇴사\n",
      "  > 상사\n",
      "  > 시간\n",
      "  > 직장\n",
      "  > 진상\n",
      "  > 취업\n",
      "  > 직원\n",
      "\n",
      "cluster # 5\n",
      "  > 작가\n",
      "  > 사이다\n",
      "  > 발암\n",
      "  > 웹툰\n",
      "  > 만화\n",
      "  > 현실\n",
      "  > 고구마\n",
      "  > 공감\n",
      "\n",
      "cluster # 6\n",
      "  > 좁쌀\n",
      "  > 소연\n",
      "  > 편집장\n",
      "  > 여주\n",
      "  > 진심\n",
      "  > 새끼\n",
      "  > 이름\n",
      "  > 얼굴\n",
      "\n",
      "cluster # 0\n",
      "  > 엄마\n",
      "  > 동생\n",
      "  > 아빠\n",
      "  > 공부\n",
      "  > 학교\n",
      "  > 머리\n",
      "  > 언니\n",
      "  > 대학\n",
      "\n",
      "cluster # 8\n",
      "  > 여자\n",
      "  > 남자\n",
      "  > 나이\n",
      "  > 결혼\n",
      "  > 나라\n",
      "  > 연애\n",
      "  > 한국\n",
      "  > 여성\n",
      "\n",
      "cluster # 4\n",
      "  > 은지\n",
      "  > 시작\n",
      "  > 차장\n",
      "  > 징징\n",
      "  > 박근혜\n",
      "  > 최고\n",
      "  > 내일\n",
      "  > 대리\n",
      "\n",
      "cluster # 1\n",
      "  > 구호\n",
      "  > 주제\n",
      "  > 중간\n",
      "  > 탕수육\n",
      "  > 타령\n",
      "  > 기기\n",
      "  > 장애\n",
      "  > 여친\n",
      "\n",
      "cluster # 9\n",
      "  > 지은\n",
      "  > 동안\n",
      "  > 부장\n",
      "  > 예전\n",
      "  > 병원\n",
      "  > 자괴감\n",
      "  > 팀장\n",
      "  > 실력\n",
      "\n",
      "cluster # 7\n",
      "  > 대가리\n",
      "  > 바보\n",
      "  > 어머님\n",
      "  > 기회\n",
      "  > 방법\n",
      "  > 망이\n",
      "  > 걸까\n",
      "  > 연락\n"
     ]
    }
   ],
   "source": [
    "for label, rows in cluster_to_row.items():\n",
    "    print('\\ncluster # %d' % label)\n",
    "    for row in rows[:8]:\n",
    "        print('  > %s' % voc[row])"
   ]
  },
  {
   "cell_type": "markdown",
   "metadata": {},
   "source": [
    "___\n",
    "## clustering visulaization"
   ]
  },
  {
   "cell_type": "code",
   "execution_count": 149,
   "metadata": {},
   "outputs": [
    {
     "data": {
      "text/plain": [
       "(10, 100)"
      ]
     },
     "execution_count": 149,
     "metadata": {},
     "output_type": "execute_result"
    }
   ],
   "source": [
    "kmeans.cluster_centers_.shape"
   ]
  },
  {
   "cell_type": "code",
   "execution_count": 150,
   "metadata": {
    "collapsed": true
   },
   "outputs": [],
   "source": [
    "from matplotlib import font_manager, rc\n",
    "font_name = font_manager.FontProperties(fname=\"c:/Windows/Fonts/malgun.ttf\").get_name()\n",
    "rc('font', family=font_name)"
   ]
  },
  {
   "cell_type": "code",
   "execution_count": 151,
   "metadata": {
    "scrolled": true
   },
   "outputs": [
    {
     "data": {
      "image/png": "[encoded data removed]",
      "text/plain": [
       "<matplotlib.figure.Figure at 0x233b4c2cc18>"
      ]
     },
     "metadata": {},
     "output_type": "display_data"
    }
   ],
   "source": [
    "import matplotlib\n",
    "import matplotlib.pyplot as plt\n",
    "%matplotlib inline\n",
    "\n",
    "\n",
    "from sklearn.manifold import TSNE\n",
    "tsne = TSNE(n_components=2)\n",
    "y_tsne = tsne.fit_transform(kmeans.cluster_centers_)\n",
    "y_tsne = y_tsne*1000\n",
    "\n",
    "\n",
    "plt.figure(figsize=(15,10))\n",
    "plt.scatter(y_tsne[:,0], y_tsne[:,1], color='yellow')\n",
    "for i in range(y_tsne.shape[0]):\n",
    "    one_sample = voc[cluster_to_row[i][0]]\n",
    "    two_sample = voc[cluster_to_row[i][1]]\n",
    "    plt.annotate('cluster %d \\n(%s\\n%s)' % (i, one_sample, two_sample), \n",
    "                 (y_tsne[i, 0], y_tsne[i, 1])\n",
    "                )\n",
    "plt.show()"
   ]
  },
  {
   "cell_type": "code",
   "execution_count": 31,
   "metadata": {},
   "outputs": [
    {
     "name": "stdout",
     "output_type": "stream",
     "text": [
      "Wall time: 28.1 ms\n"
     ]
    }
   ],
   "source": [
    "%%time \n",
    "\n",
    "from sklearn.manifold import MDS\n",
    "\n",
    "mds = MDS(n_components=2)\n",
    "y_mds = mds.fit_transform(kmeans.cluster_centers_)\n",
    "\n",
    "y_mds.shape"
   ]
  },
  {
   "cell_type": "code",
   "execution_count": 32,
   "metadata": {},
   "outputs": [
    {
     "data": {
      "image/png": "[encoded data removed]",
      "text/plain": [
       "<matplotlib.figure.Figure at 0x233c3588668>"
      ]
     },
     "metadata": {},
     "output_type": "display_data"
    }
   ],
   "source": [
    "plt.figure(figsize=(15,10))\n",
    "plt.scatter(y_mds[:,0], y_mds[:,1], color='yellow')\n",
    "for i in range(y_tsne.shape[0]):\n",
    "    one_sample = voc[cluster_to_row[i][0]]\n",
    "    two_sample = voc[cluster_to_row[i][1]]\n",
    "    plt.annotate('cluster %d \\n(%s\\n%s)' % (i, one_sample, two_sample), \n",
    "                 (y_mds[i, 0], y_mds[i, 1])\n",
    "                )\n",
    "plt.show()\n",
    "\n"
   ]
  }
 ],
 "metadata": {
  "kernelspec": {
   "display_name": "Python 3",
   "language": "python",
   "name": "python3"
  },
  "language_info": {
   "codemirror_mode": {
    "name": "ipython",
    "version": 3
   },
   "file_extension": ".py",
   "mimetype": "text/x-python",
   "name": "python",
   "nbconvert_exporter": "python",
   "pygments_lexer": "ipython3",
   "version": "3.6.3"
  }
 },
 "nbformat": 4,
 "nbformat_minor": 2
}
