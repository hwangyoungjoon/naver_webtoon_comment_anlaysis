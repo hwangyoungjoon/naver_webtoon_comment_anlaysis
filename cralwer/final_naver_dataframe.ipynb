{
 "cells": [
  {
   "cell_type": "code",
   "execution_count": 18,
   "metadata": {
    "collapsed": true
   },
   "outputs": [],
   "source": [
    "from bs4 import BeautifulSoup\n",
    "import numpy\n",
    "import requests as res\n",
    "from urllib.parse import urlparse, parse_qs, urljoin\n",
    "import json\n",
    "import openpyxl\n",
    "import time\n",
    "import random"
   ]
  },
  {
   "cell_type": "code",
   "execution_count": 19,
   "metadata": {
    "collapsed": true
   },
   "outputs": [],
   "source": [
    "random.seed(1287)"
   ]
  },
  {
   "cell_type": "code",
   "execution_count": 20,
   "metadata": {
    "collapsed": true
   },
   "outputs": [],
   "source": [
    "# daily webtoon\n",
    "\n",
    "def crawler_daily_webtoon():\n",
    "    get_daily_webtoon=res.get(\"http://comic.naver.com/webtoon/weekday.nhn\")\n",
    "    soup=BeautifulSoup(get_daily_webtoon.content,\"lxml\")\n",
    "    tag=soup.select(\".daily_all a.title\")\n",
    "    webtoon_list=[{\"title\":a.get(\"title\"),\"link\":str(\"http://comic.naver.com\")+a.get(\"href\")} for a in tag]\n",
    "    \n",
    "    return webtoon_list\n",
    "\n",
    "    \n",
    "    "
   ]
  },
  {
   "cell_type": "code",
   "execution_count": 21,
   "metadata": {
    "collapsed": true
   },
   "outputs": [],
   "source": [
    "# all_episode\n",
    "\n",
    "def cralwer_episode(webtoon):\n",
    "    target_webtoon=list()\n",
    "    page_num=1\n",
    "    is_unlast=True\n",
    "    while is_unlast:\n",
    "        link=webtoon[\"link\"]+\"&page=\"+str(page_num)\n",
    "        get_page=res.get(link)\n",
    "        page=BeautifulSoup(get_page.content,\"lxml\")\n",
    "        a_tags=page.select(\".viewList td.title a\")\n",
    "        for a_tag in a_tags:\n",
    "            episode=a_tag.text.replace(\"\\n\",\"\").replace(\"\\r\",\"\").replace(\"\\t\",\"\")\n",
    "            episode_url=\"http://comic.naver.com\"+str(a_tag.get(\"href\"))\n",
    "            \n",
    "            if episode_url not in target_webtoon:\n",
    "                target_webtoon.append(episode_url)\n",
    "                \n",
    "            else:\n",
    "                is_unlast=False\n",
    "                \n",
    "        page_num+=1\n",
    "    return target_webtoon\n",
    "\n"
   ]
  },
  {
   "cell_type": "code",
   "execution_count": 22,
   "metadata": {
    "collapsed": true
   },
   "outputs": [],
   "source": [
    "def get_comments(soup,url):\n",
    "        title= soup.title.text.split(':')[0]\n",
    "        titleId =str(parse_qs(urlparse(url).query)['titleId'][0]) #웹툰 고유아이디값\n",
    "        no = str(parse_qs(urlparse(url).query)['no'][0])# 웹툰 그 회차 페이지\n",
    "\n",
    "        comment_url = 'http://comic.naver.com' + '/comment/comment.nhn?titleId=' + titleId + '&no=' + no\n",
    "        objectId = titleId + '_' + no\n",
    "        sub_title=soup.select(\".tit_area h3\")\n",
    "        sub_title=sub_title[0].text\n",
    "        page_count = 1\n",
    "\n",
    "        u = 'http://apis.naver.com/commentBox/cbox/web_naver_list_jsonp.json?ticket=comic&templateId=webtoon&pool=cbox3&_callback=jQuery1113012327623800394427_1489937311100&lang=ko&country=KR&objectId=' +objectId+ '&categoryId=&pageSize=15&indexSize=10&groupId=&listType=OBJECT&sort=NEW&_=1489937311112'\n",
    "\n",
    "        comment_list=list()\n",
    "\n",
    "        while True:\n",
    "            comment_url=u+\"&page=\"+str(page_count)\n",
    "            header = {\n",
    "                \"Host\": \"apis.naver.com\",\n",
    "                \"Referer\": \"http://comic.naver.com/comment/comment.nhn?titleId=\" + titleId + \"&no=\" + no,\n",
    "                \"Content-Type\": \"application/javascript\"\n",
    "            }\n",
    "\n",
    "            rq = res.get(comment_url, headers = header)\n",
    "            soup = BeautifulSoup(rq.content, 'lxml')\n",
    "            \n",
    "           \n",
    "            try:\n",
    "                content_text = soup.select('p')[0].text\n",
    "                one = content_text.find('(') + 1\n",
    "                two = content_text.find(');')\n",
    "                content = json.loads(content_text[one:two])\n",
    "\n",
    "                comments = content['result']['commentList']\n",
    "\n",
    "\n",
    "\n",
    "                for comment in comments:\n",
    "                    comment_list.append({\n",
    "                            \"sub_title\":sub_title,\n",
    "                            \"title\": title,\n",
    "                            \"comment\":comment[\"contents\"],\n",
    "                            \"sympathy_count\":comment[\"sympathyCount\"],\n",
    "                             \"episode_num\":no})\n",
    "#                     print(comment[\"contents\"])\n",
    "                if not len(comments):\n",
    "                    return comment_list\n",
    "                    break\n",
    "                    \n",
    "                else:\n",
    "                    page_count += 1\n",
    "            except:\n",
    "                pass"
   ]
  },
  {
   "cell_type": "code",
   "execution_count": 23,
   "metadata": {
    "collapsed": true
   },
   "outputs": [],
   "source": [
    "a=crawler_daily_webtoon()"
   ]
  },
  {
   "cell_type": "code",
   "execution_count": 24,
   "metadata": {},
   "outputs": [
    {
     "name": "stdout",
     "output_type": "stream",
     "text": [
      "46\n"
     ]
    }
   ],
   "source": [
    "for ind in a:\n",
    "    if ind[\"title\"]==\"열정호구\":\n",
    "        print(a.index(ind))"
   ]
  },
  {
   "cell_type": "code",
   "execution_count": 25,
   "metadata": {},
   "outputs": [
    {
     "data": {
      "text/plain": [
       "{'link': 'http://comic.naver.com/webtoon/list.nhn?titleId=686312&weekday=tue',\n",
       " 'title': '열정호구'}"
      ]
     },
     "execution_count": 25,
     "metadata": {},
     "output_type": "execute_result"
    }
   ],
   "source": [
    "a[46]"
   ]
  },
  {
   "cell_type": "code",
   "execution_count": 26,
   "metadata": {
    "collapsed": true
   },
   "outputs": [],
   "source": [
    "fire_hogu=cralwer_episode(a[46])"
   ]
  },
  {
   "cell_type": "code",
   "execution_count": 27,
   "metadata": {
    "scrolled": true
   },
   "outputs": [
    {
     "data": {
      "text/plain": [
       "['http://comic.naver.com/webtoon/detail.nhn?titleId=686312&no=64&weekday=tue',\n",
       " 'http://comic.naver.com/webtoon/detail.nhn?titleId=686312&no=63&weekday=tue',\n",
       " 'http://comic.naver.com/webtoon/detail.nhn?titleId=686312&no=62&weekday=tue',\n",
       " 'http://comic.naver.com/webtoon/detail.nhn?titleId=686312&no=61&weekday=tue',\n",
       " 'http://comic.naver.com/webtoon/detail.nhn?titleId=686312&no=60&weekday=tue',\n",
       " 'http://comic.naver.com/webtoon/detail.nhn?titleId=686312&no=59&weekday=tue',\n",
       " 'http://comic.naver.com/webtoon/detail.nhn?titleId=686312&no=58&weekday=tue',\n",
       " 'http://comic.naver.com/webtoon/detail.nhn?titleId=686312&no=57&weekday=tue',\n",
       " 'http://comic.naver.com/webtoon/detail.nhn?titleId=686312&no=56&weekday=tue',\n",
       " 'http://comic.naver.com/webtoon/detail.nhn?titleId=686312&no=55&weekday=tue',\n",
       " 'http://comic.naver.com/webtoon/detail.nhn?titleId=686312&no=54&weekday=tue',\n",
       " 'http://comic.naver.com/webtoon/detail.nhn?titleId=686312&no=53&weekday=tue',\n",
       " 'http://comic.naver.com/webtoon/detail.nhn?titleId=686312&no=52&weekday=tue',\n",
       " 'http://comic.naver.com/webtoon/detail.nhn?titleId=686312&no=51&weekday=tue',\n",
       " 'http://comic.naver.com/webtoon/detail.nhn?titleId=686312&no=50&weekday=tue',\n",
       " 'http://comic.naver.com/webtoon/detail.nhn?titleId=686312&no=49&weekday=tue',\n",
       " 'http://comic.naver.com/webtoon/detail.nhn?titleId=686312&no=48&weekday=tue',\n",
       " 'http://comic.naver.com/webtoon/detail.nhn?titleId=686312&no=47&weekday=tue',\n",
       " 'http://comic.naver.com/webtoon/detail.nhn?titleId=686312&no=46&weekday=tue',\n",
       " 'http://comic.naver.com/webtoon/detail.nhn?titleId=686312&no=45&weekday=tue',\n",
       " 'http://comic.naver.com/webtoon/detail.nhn?titleId=686312&no=44&weekday=tue',\n",
       " 'http://comic.naver.com/webtoon/detail.nhn?titleId=686312&no=43&weekday=tue',\n",
       " 'http://comic.naver.com/webtoon/detail.nhn?titleId=686312&no=42&weekday=tue',\n",
       " 'http://comic.naver.com/webtoon/detail.nhn?titleId=686312&no=41&weekday=tue',\n",
       " 'http://comic.naver.com/webtoon/detail.nhn?titleId=686312&no=40&weekday=tue',\n",
       " 'http://comic.naver.com/webtoon/detail.nhn?titleId=686312&no=39&weekday=tue',\n",
       " 'http://comic.naver.com/webtoon/detail.nhn?titleId=686312&no=38&weekday=tue',\n",
       " 'http://comic.naver.com/webtoon/detail.nhn?titleId=686312&no=37&weekday=tue',\n",
       " 'http://comic.naver.com/webtoon/detail.nhn?titleId=686312&no=36&weekday=tue',\n",
       " 'http://comic.naver.com/webtoon/detail.nhn?titleId=686312&no=35&weekday=tue',\n",
       " 'http://comic.naver.com/webtoon/detail.nhn?titleId=686312&no=34&weekday=tue',\n",
       " 'http://comic.naver.com/webtoon/detail.nhn?titleId=686312&no=33&weekday=tue',\n",
       " 'http://comic.naver.com/webtoon/detail.nhn?titleId=686312&no=32&weekday=tue',\n",
       " 'http://comic.naver.com/webtoon/detail.nhn?titleId=686312&no=31&weekday=tue',\n",
       " 'http://comic.naver.com/webtoon/detail.nhn?titleId=686312&no=30&weekday=tue',\n",
       " 'http://comic.naver.com/webtoon/detail.nhn?titleId=686312&no=29&weekday=tue',\n",
       " 'http://comic.naver.com/webtoon/detail.nhn?titleId=686312&no=28&weekday=tue',\n",
       " 'http://comic.naver.com/webtoon/detail.nhn?titleId=686312&no=27&weekday=tue',\n",
       " 'http://comic.naver.com/webtoon/detail.nhn?titleId=686312&no=26&weekday=tue',\n",
       " 'http://comic.naver.com/webtoon/detail.nhn?titleId=686312&no=25&weekday=tue',\n",
       " 'http://comic.naver.com/webtoon/detail.nhn?titleId=686312&no=24&weekday=tue',\n",
       " 'http://comic.naver.com/webtoon/detail.nhn?titleId=686312&no=23&weekday=tue',\n",
       " 'http://comic.naver.com/webtoon/detail.nhn?titleId=686312&no=22&weekday=tue',\n",
       " 'http://comic.naver.com/webtoon/detail.nhn?titleId=686312&no=21&weekday=tue',\n",
       " 'http://comic.naver.com/webtoon/detail.nhn?titleId=686312&no=20&weekday=tue',\n",
       " 'http://comic.naver.com/webtoon/detail.nhn?titleId=686312&no=19&weekday=tue',\n",
       " 'http://comic.naver.com/webtoon/detail.nhn?titleId=686312&no=18&weekday=tue',\n",
       " 'http://comic.naver.com/webtoon/detail.nhn?titleId=686312&no=17&weekday=tue',\n",
       " 'http://comic.naver.com/webtoon/detail.nhn?titleId=686312&no=16&weekday=tue',\n",
       " 'http://comic.naver.com/webtoon/detail.nhn?titleId=686312&no=15&weekday=tue',\n",
       " 'http://comic.naver.com/webtoon/detail.nhn?titleId=686312&no=14&weekday=tue',\n",
       " 'http://comic.naver.com/webtoon/detail.nhn?titleId=686312&no=13&weekday=tue',\n",
       " 'http://comic.naver.com/webtoon/detail.nhn?titleId=686312&no=12&weekday=tue',\n",
       " 'http://comic.naver.com/webtoon/detail.nhn?titleId=686312&no=11&weekday=tue',\n",
       " 'http://comic.naver.com/webtoon/detail.nhn?titleId=686312&no=10&weekday=tue',\n",
       " 'http://comic.naver.com/webtoon/detail.nhn?titleId=686312&no=9&weekday=tue',\n",
       " 'http://comic.naver.com/webtoon/detail.nhn?titleId=686312&no=8&weekday=tue',\n",
       " 'http://comic.naver.com/webtoon/detail.nhn?titleId=686312&no=7&weekday=tue',\n",
       " 'http://comic.naver.com/webtoon/detail.nhn?titleId=686312&no=6&weekday=tue',\n",
       " 'http://comic.naver.com/webtoon/detail.nhn?titleId=686312&no=5&weekday=tue',\n",
       " 'http://comic.naver.com/webtoon/detail.nhn?titleId=686312&no=4&weekday=tue',\n",
       " 'http://comic.naver.com/webtoon/detail.nhn?titleId=686312&no=3&weekday=tue',\n",
       " 'http://comic.naver.com/webtoon/detail.nhn?titleId=686312&no=2&weekday=tue',\n",
       " 'http://comic.naver.com/webtoon/detail.nhn?titleId=686312&no=1&weekday=tue']"
      ]
     },
     "execution_count": 27,
     "metadata": {},
     "output_type": "execute_result"
    }
   ],
   "source": [
    "fire_hogu"
   ]
  },
  {
   "cell_type": "code",
   "execution_count": 53,
   "metadata": {
    "collapsed": true
   },
   "outputs": [],
   "source": [
    "import queue\n",
    "import threading\n",
    "\n",
    "\n",
    "all_comments=[]\n",
    "input_queue=queue.Queue()\n",
    "out_queue=queue.Queue()\n",
    "\n",
    "class Input_Thread(threading.Thread):\n",
    "    def __init__(self,input_queue,out_queue):\n",
    "        \n",
    "        threading.Thread.__init__(self)\n",
    "        self.input_queue=input_queue\n",
    "        self.out_queue=out_queue\n",
    "    \n",
    "    def run(self):\n",
    "        while True:\n",
    "            url=self.input_queue.get()\n",
    "#             rt=res.get(url)\n",
    "#             soup=BeautifulSoup(rt.content,\"lxml\")\n",
    "            self.out_queue.put(url)\n",
    "            \n",
    "            \n",
    "            self.input_queue.task_done()\n",
    "\n",
    "\n",
    "\n",
    "class Output_Thread(threading.Thread):\n",
    "    def __init__(self,out_queue):\n",
    "        \n",
    "        threading.Thread.__init__(self)\n",
    "        self.out_queue=out_queue\n",
    "    \n",
    "    def run(self):\n",
    "        while True:\n",
    "            data=self.out_queue.get()\n",
    "            rt=res.get(data)\n",
    "            soup=BeautifulSoup(rt.content,\"lxml\")\n",
    "            time.sleep(random.uniform(2.1,2.8))\n",
    "            get_comments(soup,data)\n",
    "            \n",
    "            self.out_queue.task_done()\n",
    "\n",
    "\n",
    "            \n",
    "            "
   ]
  },
  {
   "cell_type": "code",
   "execution_count": null,
   "metadata": {},
   "outputs": [],
   "source": [
    "fire_hogu[-2:]"
   ]
  },
  {
   "cell_type": "code",
   "execution_count": null,
   "metadata": {
    "collapsed": true,
    "scrolled": true
   },
   "outputs": [],
   "source": [
    "\n",
    "for i in fire_hogu[-2:]:\n",
    "    th=Input_Thread(input_queue,out_queue)\n",
    "    th.setDaemon(True)\n",
    "    th.start()\n",
    "    \n",
    "for epi in fire_hogu[-2:]:\n",
    "    input_queue.put(epi)\n",
    "\n",
    "for epi1 in range(2):\n",
    "    out=Output_Thread(out_queue)\n",
    "    out.setDaemon(True)\n",
    "    out.start()\n",
    "    \n",
    "input_queue.join()\n",
    "out_queue.join()"
   ]
  },
  {
   "cell_type": "code",
   "execution_count": null,
   "metadata": {
    "collapsed": true
   },
   "outputs": [],
   "source": [
    "print(1)"
   ]
  },
  {
   "cell_type": "code",
   "execution_count": null,
   "metadata": {
    "collapsed": true,
    "scrolled": true
   },
   "outputs": [],
   "source": [
    "def multi_crawl(webtoon_episode_list,que):\n",
    "    \n",
    "    if int(len(webtoon_episode_list)%5)!=0: #나머지가 존재한다면\n",
    "            unit=int(len(webtoon_episode_list)//5)\n",
    "            surplus=int(len(webtoon_episode_list)%5)\n",
    "            \n",
    "            # 몫으로 배분된 웹툰 페이지 크롤링\n",
    "            for i in range(int(len(webtoon_episode_list)/5)):\n",
    "                a=[]\n",
    "                a=webtoon_episode_list[i*5:i*5+5]\n",
    "                thread_list=[]\n",
    "                for url in a:\n",
    "                    rt=res.get(url)\n",
    "                    soup=BeautifulSoup(rt.content,\"lxml\")\n",
    "                    worker=Thread(target=get_comments,args=(soup,url))\n",
    "                    worker.setDaemon(True)\n",
    "                    thread_list.append(worker)\n",
    "                    worker.start()\n",
    "                \n",
    "                for end in thread_list:\n",
    "                    end.join()\n",
    "                    \n",
    "                    \n",
    "            # 나머지 페이지 크롤링\n",
    "            thread_list=[]\n",
    "            for url in webtoon_episode_list[-surplus:]:\n",
    "                rt=res.get(url)\n",
    "                soup=BeautifulSoup(rt.content,\"lxml\")\n",
    "                worker=Thread(target=get_comments,args=(soup,url))\n",
    "                worker.setDaemon(True)\n",
    "                thread_list.append(worker)\n",
    "                worker.start()\n",
    "\n",
    "            for end in thread_list:\n",
    "                end.join()\n",
    "                \n",
    "                \n",
    "            return que\n",
    "\n",
    "    else:\n",
    "           for i in range(int(len(webtoon_episode_list)/5)):\n",
    "                a=[]\n",
    "                a=webtoon_episode_list[i*5:i*5+5]\n",
    "                thread_list=[]\n",
    "                for url in a:\n",
    "                    rt=res.get(url)\n",
    "                    soup=BeautifulSoup(rt.content,\"lxml\")\n",
    "                    worker=Thread(target=get_comments,args=(soup,url,que))\n",
    "                    worker.setDaemon(True)\n",
    "                    thread_list.append(worker)\n",
    "                    worker.start()\n",
    "                \n",
    "                for end in thread_list:\n",
    "                    end.join()\n",
    "                    \n",
    "           return que\n",
    "                 "
   ]
  },
  {
   "cell_type": "code",
   "execution_count": null,
   "metadata": {
    "collapsed": true,
    "scrolled": true
   },
   "outputs": [],
   "source": [
    "import queue\n",
    "from threading import Thread\n",
    "que=queue.Queue()\n",
    "multi_crawl(fire_hogu[:12],que)"
   ]
  },
  {
   "cell_type": "code",
   "execution_count": null,
   "metadata": {
    "collapsed": true
   },
   "outputs": [],
   "source": [
    "import queue\n",
    "from threading import Thread"
   ]
  },
  {
   "cell_type": "code",
   "execution_count": null,
   "metadata": {},
   "outputs": [],
   "source": [
    "fire_hogu[-1:]"
   ]
  },
  {
   "cell_type": "code",
   "execution_count": null,
   "metadata": {
    "scrolled": true
   },
   "outputs": [],
   "source": [
    "\n",
    "\n",
    "all_comments=list()\n",
    "for episode in fire_hogu[-1:]:\n",
    "    \n",
    "    rt=res.get(episode)\n",
    "    soup=BeautifulSoup(rt.content,\"lxml\")\n",
    "    \n",
    "    all_comments.append(get_comments(soup,episode))\n",
    "    time.sleep(random.uniform(2.0,3.1))"
   ]
  },
  {
   "cell_type": "code",
   "execution_count": null,
   "metadata": {},
   "outputs": [],
   "source": [
    "print((random.uniform(1.2,1.8)))"
   ]
  },
  {
   "cell_type": "code",
   "execution_count": null,
   "metadata": {
    "collapsed": true
   },
   "outputs": [],
   "source": [
    "all_comments"
   ]
  },
  {
   "cell_type": "code",
   "execution_count": null,
   "metadata": {
    "collapsed": true
   },
   "outputs": [],
   "source": [
    "from multiprocessing import Pool\n",
    "\n"
   ]
  },
  {
   "cell_type": "markdown",
   "metadata": {},
   "source": [
    "# Queue to Dataframe\n",
    "---"
   ]
  },
  {
   "cell_type": "code",
   "execution_count": null,
   "metadata": {
    "collapsed": true
   },
   "outputs": [],
   "source": [
    "import pandas as pd"
   ]
  },
  {
   "cell_type": "code",
   "execution_count": null,
   "metadata": {
    "collapsed": true,
    "scrolled": true
   },
   "outputs": [],
   "source": [
    "data=pd.DataFrame(all_comments[0])"
   ]
  },
  {
   "cell_type": "code",
   "execution_count": null,
   "metadata": {
    "collapsed": true
   },
   "outputs": [],
   "source": [
    "data1=pd.DataFrame(all_comments[1])\n",
    "\n",
    "merge=pd.concat([data,data1],ignore_index=True)\n",
    "len(merge)"
   ]
  },
  {
   "cell_type": "code",
   "execution_count": null,
   "metadata": {
    "collapsed": true
   },
   "outputs": [],
   "source": [
    "first=pd.DataFrame()\n",
    "for one_episode in all_comments:\n",
    "    data=pd.DataFrame(one_episode)\n",
    "    first=pd.concat([first,data],ignore_index=True)\n",
    "    \n",
    "    "
   ]
  },
  {
   "cell_type": "code",
   "execution_count": null,
   "metadata": {
    "collapsed": true,
    "scrolled": true
   },
   "outputs": [],
   "source": [
    "len(first)"
   ]
  },
  {
   "cell_type": "code",
   "execution_count": null,
   "metadata": {
    "collapsed": true
   },
   "outputs": [],
   "source": [
    "writer=pd.ExcelWriter(\"outpu_final.xlsx\")\n",
    "writer=pd.\n",
    "\n",
    "v first.to_excel(writer,'Sheet1')\n",
    "writer.save()"
   ]
  },
  {
   "cell_type": "code",
   "execution_count": null,
   "metadata": {
    "collapsed": true
   },
   "outputs": [],
   "source": [
    "df_1=data.groupby([\"comment\",\"sympathy_count\"])"
   ]
  },
  {
   "cell_type": "code",
   "execution_count": null,
   "metadata": {
    "collapsed": true
   },
   "outputs": [],
   "source": [
    "exact_large=first.nlargest(1000,\"sympathy_count\")"
   ]
  },
  {
   "cell_type": "code",
   "execution_count": null,
   "metadata": {
    "collapsed": true
   },
   "outputs": [],
   "source": [
    "writer1=pd.ExcelWriter(\"greateest_count.xlsx\")\n",
    "exact_large.to_excel(writer1,\"Sheet1\")\n",
    "writer1.save()"
   ]
  },
  {
   "cell_type": "code",
   "execution_count": null,
   "metadata": {},
   "outputs": [],
   "source": [
    "import threading, queue \n",
    "import time \n",
    "\n",
    "\n",
    "class Catcher(threading.Thread): \n",
    "    # Thread Extends \n",
    "    def __init__(self, id, dataQueue): \n",
    "        threading.Thread.__init__(self) \n",
    "        self.id = id \n",
    "        # for print \n",
    "        self.dataQueue = dataQueue # data queue \n",
    "    def run(self): \n",
    "        while True:\t# thread task \n",
    "            data = self.dataQueue.get()\t# queue element get \n",
    "            print(\"[\" + str(self.id) + \" : \" + str(data) + \"]\") \n",
    "            self.dataQueue.task_done()\t# work done notify to queue \n",
    "def main(): \n",
    "    StringQueue = queue.Queue()\t# create queue \n",
    "    \n",
    "    for i in range(10000):\n",
    "        StringQueue.put(i)\t# put data \n",
    "    \n",
    "    cat1 = Catcher(\"A\", StringQueue)\t# declare thread obj \n",
    "    cat1.setDaemon(True) \n",
    "    cat2 = Catcher(\"B\", StringQueue) \n",
    "    cat2.setDaemon(True)\n",
    "    cat3 = Catcher(\"C\", StringQueue) \n",
    "    cat3.setDaemon(True)\n",
    "    \n",
    "    cat1.start()\t# thread start \n",
    "    cat2.start() \n",
    "    cat3.start()\n",
    "    StringQueue.put(3)\n",
    "    StringQueue.put(4) \n",
    "    \n",
    "     \n",
    "if __name__ == \"__main__\": main()\n",
    "\n",
    "# 출처: http://hurderella.tistory.com/86 [Hurderella]"
   ]
  },
  {
   "cell_type": "code",
   "execution_count": 50,
   "metadata": {},
   "outputs": [],
   "source": [
    "u = 'http://apis.naver.com/commentBox/cbox/web_naver_list_jsonp.json?ticket=comic&templateId=webtoon&pool=cbox3&_callback=jQuery1113012327623800394427_1489937311100&lang=ko&country=KR&objectId=686312_1&categoryId=&pageSize=15&indexSize=10&groupId=&listType=OBJECT&sort=NEW&_=1489937311112'\n",
    "# objectId = titleId + '_' + no\n",
    "#         /comment_list = list()\n",
    "\n",
    "#         while True:\n",
    "comment_url = u + \"&page=\" + \"5\"\n",
    "header = {\n",
    "\"Host\": \"apis.naver.com\",\n",
    "\"Referer\": \"http://comic.naver.com/comment/comment.nhn?titleId=\" +\"686312\"+ \"&no=\" +\"1\",\n",
    "\"Content-Type\": \"application/javascript\"\n",
    "}\n",
    "# time.sleep(5)\n",
    "rq = res.get(comment_url, headers=header)\n",
    "\n",
    "soup = BeautifulSoup(rq.content, 'lxml')\n"
   ]
  },
  {
   "cell_type": "code",
   "execution_count": 51,
   "metadata": {},
   "outputs": [
    {
     "data": {
      "text/plain": [
       "<html><body><p>jQuery1113012327623800394427_1489937311100({\"success\":true,\"code\":\"1000\",\"message\":\"ìš”ì²­ì</p></body></html>"
      ]
     },
     "execution_count": 51,
     "metadata": {},
     "output_type": "execute_result"
    }
   ],
   "source": [
    "soup"
   ]
  },
  {
   "cell_type": "code",
   "execution_count": 52,
   "metadata": {},
   "outputs": [
    {
     "ename": "JSONDecodeError",
     "evalue": "Unterminated string starting at: line 1 column 41 (char 40)",
     "output_type": "error",
     "traceback": [
      "\u001b[1;31m---------------------------------------------------------------------------\u001b[0m",
      "\u001b[1;31mJSONDecodeError\u001b[0m                           Traceback (most recent call last)",
      "\u001b[1;32m<ipython-input-52-60231d2bfc30>\u001b[0m in \u001b[0;36m<module>\u001b[1;34m()\u001b[0m\n\u001b[0;32m      3\u001b[0m \u001b[0mone\u001b[0m \u001b[1;33m=\u001b[0m \u001b[0mcontent_text\u001b[0m\u001b[1;33m.\u001b[0m\u001b[0mfind\u001b[0m\u001b[1;33m(\u001b[0m\u001b[1;34m'('\u001b[0m\u001b[1;33m)\u001b[0m \u001b[1;33m+\u001b[0m \u001b[1;36m1\u001b[0m\u001b[1;33m\u001b[0m\u001b[0m\n\u001b[0;32m      4\u001b[0m \u001b[0mtwo\u001b[0m \u001b[1;33m=\u001b[0m \u001b[0mcontent_text\u001b[0m\u001b[1;33m.\u001b[0m\u001b[0mfind\u001b[0m\u001b[1;33m(\u001b[0m\u001b[1;34m');'\u001b[0m\u001b[1;33m)\u001b[0m\u001b[1;33m\u001b[0m\u001b[0m\n\u001b[1;32m----> 5\u001b[1;33m \u001b[0mcontent\u001b[0m \u001b[1;33m=\u001b[0m \u001b[0mjson\u001b[0m\u001b[1;33m.\u001b[0m\u001b[0mloads\u001b[0m\u001b[1;33m(\u001b[0m\u001b[0mcontent_text\u001b[0m\u001b[1;33m[\u001b[0m\u001b[0mone\u001b[0m\u001b[1;33m:\u001b[0m\u001b[0mtwo\u001b[0m\u001b[1;33m]\u001b[0m\u001b[1;33m)\u001b[0m\u001b[1;33m\u001b[0m\u001b[0m\n\u001b[0m\u001b[0;32m      6\u001b[0m \u001b[1;33m\u001b[0m\u001b[0m\n\u001b[0;32m      7\u001b[0m \u001b[0mcomments\u001b[0m \u001b[1;33m=\u001b[0m \u001b[0mcontent\u001b[0m\u001b[1;33m[\u001b[0m\u001b[1;34m'result'\u001b[0m\u001b[1;33m]\u001b[0m\u001b[1;33m[\u001b[0m\u001b[1;34m'commentList'\u001b[0m\u001b[1;33m]\u001b[0m\u001b[1;33m\u001b[0m\u001b[0m\n",
      "\u001b[1;32mC:\\ProgramData\\Anaconda3\\lib\\json\\__init__.py\u001b[0m in \u001b[0;36mloads\u001b[1;34m(s, encoding, cls, object_hook, parse_float, parse_int, parse_constant, object_pairs_hook, **kw)\u001b[0m\n\u001b[0;32m    352\u001b[0m             \u001b[0mparse_int\u001b[0m \u001b[1;32mis\u001b[0m \u001b[1;32mNone\u001b[0m \u001b[1;32mand\u001b[0m \u001b[0mparse_float\u001b[0m \u001b[1;32mis\u001b[0m \u001b[1;32mNone\u001b[0m \u001b[1;32mand\u001b[0m\u001b[1;33m\u001b[0m\u001b[0m\n\u001b[0;32m    353\u001b[0m             parse_constant is None and object_pairs_hook is None and not kw):\n\u001b[1;32m--> 354\u001b[1;33m         \u001b[1;32mreturn\u001b[0m \u001b[0m_default_decoder\u001b[0m\u001b[1;33m.\u001b[0m\u001b[0mdecode\u001b[0m\u001b[1;33m(\u001b[0m\u001b[0ms\u001b[0m\u001b[1;33m)\u001b[0m\u001b[1;33m\u001b[0m\u001b[0m\n\u001b[0m\u001b[0;32m    355\u001b[0m     \u001b[1;32mif\u001b[0m \u001b[0mcls\u001b[0m \u001b[1;32mis\u001b[0m \u001b[1;32mNone\u001b[0m\u001b[1;33m:\u001b[0m\u001b[1;33m\u001b[0m\u001b[0m\n\u001b[0;32m    356\u001b[0m         \u001b[0mcls\u001b[0m \u001b[1;33m=\u001b[0m \u001b[0mJSONDecoder\u001b[0m\u001b[1;33m\u001b[0m\u001b[0m\n",
      "\u001b[1;32mC:\\ProgramData\\Anaconda3\\lib\\json\\decoder.py\u001b[0m in \u001b[0;36mdecode\u001b[1;34m(self, s, _w)\u001b[0m\n\u001b[0;32m    337\u001b[0m \u001b[1;33m\u001b[0m\u001b[0m\n\u001b[0;32m    338\u001b[0m         \"\"\"\n\u001b[1;32m--> 339\u001b[1;33m         \u001b[0mobj\u001b[0m\u001b[1;33m,\u001b[0m \u001b[0mend\u001b[0m \u001b[1;33m=\u001b[0m \u001b[0mself\u001b[0m\u001b[1;33m.\u001b[0m\u001b[0mraw_decode\u001b[0m\u001b[1;33m(\u001b[0m\u001b[0ms\u001b[0m\u001b[1;33m,\u001b[0m \u001b[0midx\u001b[0m\u001b[1;33m=\u001b[0m\u001b[0m_w\u001b[0m\u001b[1;33m(\u001b[0m\u001b[0ms\u001b[0m\u001b[1;33m,\u001b[0m \u001b[1;36m0\u001b[0m\u001b[1;33m)\u001b[0m\u001b[1;33m.\u001b[0m\u001b[0mend\u001b[0m\u001b[1;33m(\u001b[0m\u001b[1;33m)\u001b[0m\u001b[1;33m)\u001b[0m\u001b[1;33m\u001b[0m\u001b[0m\n\u001b[0m\u001b[0;32m    340\u001b[0m         \u001b[0mend\u001b[0m \u001b[1;33m=\u001b[0m \u001b[0m_w\u001b[0m\u001b[1;33m(\u001b[0m\u001b[0ms\u001b[0m\u001b[1;33m,\u001b[0m \u001b[0mend\u001b[0m\u001b[1;33m)\u001b[0m\u001b[1;33m.\u001b[0m\u001b[0mend\u001b[0m\u001b[1;33m(\u001b[0m\u001b[1;33m)\u001b[0m\u001b[1;33m\u001b[0m\u001b[0m\n\u001b[0;32m    341\u001b[0m         \u001b[1;32mif\u001b[0m \u001b[0mend\u001b[0m \u001b[1;33m!=\u001b[0m \u001b[0mlen\u001b[0m\u001b[1;33m(\u001b[0m\u001b[0ms\u001b[0m\u001b[1;33m)\u001b[0m\u001b[1;33m:\u001b[0m\u001b[1;33m\u001b[0m\u001b[0m\n",
      "\u001b[1;32mC:\\ProgramData\\Anaconda3\\lib\\json\\decoder.py\u001b[0m in \u001b[0;36mraw_decode\u001b[1;34m(self, s, idx)\u001b[0m\n\u001b[0;32m    353\u001b[0m         \"\"\"\n\u001b[0;32m    354\u001b[0m         \u001b[1;32mtry\u001b[0m\u001b[1;33m:\u001b[0m\u001b[1;33m\u001b[0m\u001b[0m\n\u001b[1;32m--> 355\u001b[1;33m             \u001b[0mobj\u001b[0m\u001b[1;33m,\u001b[0m \u001b[0mend\u001b[0m \u001b[1;33m=\u001b[0m \u001b[0mself\u001b[0m\u001b[1;33m.\u001b[0m\u001b[0mscan_once\u001b[0m\u001b[1;33m(\u001b[0m\u001b[0ms\u001b[0m\u001b[1;33m,\u001b[0m \u001b[0midx\u001b[0m\u001b[1;33m)\u001b[0m\u001b[1;33m\u001b[0m\u001b[0m\n\u001b[0m\u001b[0;32m    356\u001b[0m         \u001b[1;32mexcept\u001b[0m \u001b[0mStopIteration\u001b[0m \u001b[1;32mas\u001b[0m \u001b[0merr\u001b[0m\u001b[1;33m:\u001b[0m\u001b[1;33m\u001b[0m\u001b[0m\n\u001b[0;32m    357\u001b[0m             \u001b[1;32mraise\u001b[0m \u001b[0mJSONDecodeError\u001b[0m\u001b[1;33m(\u001b[0m\u001b[1;34m\"Expecting value\"\u001b[0m\u001b[1;33m,\u001b[0m \u001b[0ms\u001b[0m\u001b[1;33m,\u001b[0m \u001b[0merr\u001b[0m\u001b[1;33m.\u001b[0m\u001b[0mvalue\u001b[0m\u001b[1;33m)\u001b[0m \u001b[1;32mfrom\u001b[0m \u001b[1;32mNone\u001b[0m\u001b[1;33m\u001b[0m\u001b[0m\n",
      "\u001b[1;31mJSONDecodeError\u001b[0m: Unterminated string starting at: line 1 column 41 (char 40)"
     ]
    }
   ],
   "source": [
    "\n",
    "content_text = soup.select('p')[0].text\n",
    "one = content_text.find('(') + 1\n",
    "two = content_text.find(');')\n",
    "content = json.loads(content_text[one:two])\n",
    "\n",
    "comments = content['result']['commentList']\n",
    "\n",
    "\n",
    "comment_list=[]\n",
    "for comment in comments:\n",
    "    comment_list.append({\n",
    "#             \"sub_title\":sub_title,\n",
    "#             \"title\": title,\n",
    "            \"comment\":comment[\"contents\"],\n",
    "            \"sympathy_count\":comment[\"sympathyCount\"],})\n",
    "#              \"episode_num\":no})"
   ]
  },
  {
   "cell_type": "code",
   "execution_count": 33,
   "metadata": {},
   "outputs": [
    {
     "data": {
      "text/plain": [
       "[{'comment': '자야 되는데 정주행할께 생겼다', 'sympathy_count': 0},\n",
       " {'comment': '그림체는 아름답지만 내용은 그렇지 않다..', 'sympathy_count': 10},\n",
       " {'comment': '처음엔 다들 그렇게 시작하지 ㅋㅋㅋㅋ', 'sympathy_count': 1},\n",
       " {'comment': '잘했다', 'sympathy_count': 0},\n",
       " {'comment': '아주 잉여인긴이야 잉여인간 잉여인간이 뭔줄 알어? 인간 떨거지 되는거야 이쌔77ㅣ야.',\n",
       "  'sympathy_count': 1},\n",
       " {'comment': '헐... 내 얘기인가? ㅋㅋ', 'sympathy_count': 0},\n",
       " {'comment': '전 전국 노예자랑 편이 제일 맘에 듬 ㅎㅎ', 'sympathy_count': 2},\n",
       " {'comment': '아 진짜 찡해서 못보겠다 .. ( 항암제 준비', 'sympathy_count': 3},\n",
       " {'comment': '현실세계', 'sympathy_count': 2},\n",
       " {'comment': '처음에 편집장 뒷얼굴 볼때 묘하게 기분안좋았다\\n이때부터 시작이였구나 편집장아',\n",
       "  'sympathy_count': 3},\n",
       " {'comment': '부모님 해도 너무하시네...', 'sympathy_count': 3},\n",
       " {'comment': '취업만 하면 다 끝날 줄 알았는데 그게 아님ㅠㅜ', 'sympathy_count': 3},\n",
       " {'comment': '다음 날 바로 출근하라는 회사가 제일 위험한 회사다.', 'sympathy_count': 2},\n",
       " {'comment': \"난 이제 20살인데 tv나 매체에 나오는 내 또래천재, 성공한애들이랑 늘 비교함 지 명문대 출신하나로 나를 한심하다 늘 그럼. 오늘도 학교다니며 과제하고 피곤해서 공강하루 누워쉬었는데 억지로 불키고 깨우면서 '게으른인생~~ 에휴~~' 라 가족앞에서 소리치고... 나 진짜 열심히 살려 노력하는데...\",\n",
       "  'sympathy_count': 4},\n",
       " {'comment': '와 울 부모님이랑 똑같네..말 저렇게 함부로 하면서 호소하거나 울면  나 때는 이러이러 했다며 약하다고 몰아붙임. 아버지는 날 개무시함 남동생도 따라서 개무시함 그놈의 학력...',\n",
       "  'sympathy_count': 2}]"
      ]
     },
     "execution_count": 33,
     "metadata": {},
     "output_type": "execute_result"
    }
   ],
   "source": [
    "comment_list"
   ]
  },
  {
   "cell_type": "code",
   "execution_count": null,
   "metadata": {
    "collapsed": true
   },
   "outputs": [],
   "source": []
  }
 ],
 "metadata": {
  "anaconda-cloud": {},
  "kernelspec": {
   "display_name": "Python 3",
   "language": "python",
   "name": "python3"
  },
  "language_info": {
   "codemirror_mode": {
    "name": "ipython",
    "version": 3
   },
   "file_extension": ".py",
   "mimetype": "text/x-python",
   "name": "python",
   "nbconvert_exporter": "python",
   "pygments_lexer": "ipython3",
   "version": "3.6.3"
  }
 },
 "nbformat": 4,
 "nbformat_minor": 1
}
