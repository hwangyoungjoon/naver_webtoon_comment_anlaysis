{
 "cells": [
  {
   "cell_type": "code",
   "execution_count": 1,
   "metadata": {},
   "outputs": [
    {
     "data": {
      "text/plain": [
       "'0.0.301'"
      ]
     },
     "execution_count": 1,
     "metadata": {},
     "output_type": "execute_result"
    }
   ],
   "source": [
    "import soynlp\n",
    "soynlp.__version__"
   ]
  },
  {
   "cell_type": "code",
   "execution_count": null,
   "metadata": {
    "collapsed": true
   },
   "outputs": [],
   "source": [
    "corpus_fname = '../../data/corpus_10days/news/2016-10-28_article_all_normed.txt'\n",
    "corpus = Corpus(corpus_fname, iter_sent=False)\n",
    "\n",
    "for num_doc, doc in enumerate(corpus):\n",
    "    if num_doc >= 3: break\n",
    "    print('%s ...\\n '% doc[:100])"
   ]
  },
  {
   "cell_type": "code",
   "execution_count": 3,
   "metadata": {},
   "outputs": [
    {
     "name": "stdout",
     "output_type": "stream",
     "text": [
      "sent 0: 위키리크스 클린턴 전 대통령 최측근 메모 공개 \n",
      "sent 1: 워싱턴 연합뉴스 신지홍 특파원 미국 민주당 대선후보 힐러리 클린턴의 남편인 빌 클린턴 전  ...\n",
      "sent 2: 클린턴 전 대통령이 그 대가로 어떤 도움을 줬는지는 알 수 없지만 공화당 대선후보 도널드  ...\n",
      "sent 3: 위키리크스가 공개한 클린턴 전 대통령의 측근 더글러스 밴드가 과거 기록한 12쪽짜리 메모에 ...\n"
     ]
    }
   ],
   "source": [
    "from soynlp.utils import DoublespaceLineCorpus\n",
    "\n",
    "corpus_fname=\"../FastCampus-TextMining/강의노트/data/corpus_10days/news/2016-10-28_article_all_normed.txt\"\n",
    "\n",
    "corpus = DoublespaceLineCorpus(corpus_fname, iter_sent=True, num_sent=4)\n",
    "\n",
    "for n_sent, sent in enumerate(corpus):\n",
    "    print('sent %d: %s %s'% (n_sent, sent[:50], '' if len(sent) < 50 else '...'))"
   ]
  },
  {
   "cell_type": "code",
   "execution_count": 4,
   "metadata": {},
   "outputs": [
    {
     "data": {
      "text/plain": [
       "soynlp.utils.DoublespaceLineCorpus"
      ]
     },
     "execution_count": 4,
     "metadata": {},
     "output_type": "execute_result"
    }
   ],
   "source": [
    "for n_sent, sent in enumerate(corpus)"
   ]
  },
  {
   "cell_type": "code",
   "execution_count": 5,
   "metadata": {},
   "outputs": [
    {
     "name": "stdout",
     "output_type": "stream",
     "text": [
      "training was done. used memory 0.599 Gbse memory 0.564 Gb\n"
     ]
    }
   ],
   "source": [
    "from soynlp.word import WordExtractor\n",
    "corpus=DoublespaceLineCorpus(corpus_fname,iter_sent=True)\n",
    "word_extractor=WordExtractor(left_max_length=10,right_max_length=6,min_count=5)\n",
    "word_extractor.train(corpus)"
   ]
  },
  {
   "cell_type": "code",
   "execution_count": 7,
   "metadata": {},
   "outputs": [
    {
     "name": "stdout",
     "output_type": "stream",
     "text": [
      "all cohesion probabilities was computed. # words = 186939\n",
      "all branching entropies was computed # words = 300695\n",
      "all accessor variety was computed # words = 300695\n"
     ]
    }
   ],
   "source": [
    "scores=word_extractor.word_scores()"
   ]
  },
  {
   "cell_type": "code",
   "execution_count": null,
   "metadata": {
    "collapsed": true
   },
   "outputs": [],
   "source": []
  }
 ],
 "metadata": {
  "kernelspec": {
   "display_name": "Python 3",
   "language": "python",
   "name": "python3"
  },
  "language_info": {
   "codemirror_mode": {
    "name": "ipython",
    "version": 3
   },
   "file_extension": ".py",
   "mimetype": "text/x-python",
   "name": "python",
   "nbconvert_exporter": "python",
   "pygments_lexer": "ipython3",
   "version": "3.6.3"
  }
 },
 "nbformat": 4,
 "nbformat_minor": 2
}
