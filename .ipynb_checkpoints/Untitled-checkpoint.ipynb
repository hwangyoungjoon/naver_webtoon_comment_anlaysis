{
 "cells": [
  {
   "cell_type": "code",
   "execution_count": 125,
   "metadata": {
    "collapsed": true
   },
   "outputs": [],
   "source": [
    "import MeCab\n",
    "import csv\n",
    "import re\n",
    "import pandas as pd\n",
    "from collections import Counter\n",
    "from sklearn.feature_extraction.text import CountVectorizer"
   ]
  },
  {
   "cell_type": "code",
   "execution_count": 5,
   "metadata": {
    "collapsed": true
   },
   "outputs": [],
   "source": [
    "pos_tagger = MeCab.Tagger()"
   ]
  },
  {
   "cell_type": "code",
   "execution_count": 120,
   "metadata": {},
   "outputs": [
    {
     "data": {
      "text/plain": [
       "92285"
      ]
     },
     "execution_count": 120,
     "metadata": {},
     "output_type": "execute_result"
    }
   ],
   "source": [
    "with open('./out_put1.csv', 'r', encoding='cp949') as f:\n",
    "    comments = list()\n",
    "    cmts = csv.reader(f)\n",
    "    cmt_pattern = re.compile(r'[0-9가-힣]{2,}')\n",
    "    pos_pattern = re.compile(r'[0-9가-힣]{2,8}(?=\\tN[A-Z]{2,3})')\n",
    "    \n",
    "    for line in cmts:\n",
    "        if line[0]:\n",
    "            cmt = cmt_pattern.findall(line[1])\n",
    "            cmt = ' '.join(cmt)\n",
    "            cmt = pos_pattern.findall(pos_tagger.parse(cmt))\n",
    "            cmt = ' '.join(cmt)\n",
    "\n",
    "            episode_num = int(line[2])\n",
    "            if cmt: comments.append((cmt, episode_num))\n",
    "len(comments)"
   ]
  },
  {
   "cell_type": "code",
   "execution_count": 121,
   "metadata": {},
   "outputs": [
    {
     "data": {
      "text/plain": [
       "[('주인공 소연', 63),\n",
       " ('핫식스 피토', 63),\n",
       " ('전봇대', 63),\n",
       " ('이름 주인공 이름 댓글 파이팅', 63),\n",
       " ('요리', 63),\n",
       " ('여주', 63),\n",
       " ('소정 동생 부모 사랑', 63),\n",
       " ('이만화 소개 이만화 처음 고구마 시작 주인공 인물 사이다 고구마', 63),\n",
       " ('소연 그동안 참고', 63),\n",
       " ('결핵', 63)]"
      ]
     },
     "execution_count": 121,
     "metadata": {},
     "output_type": "execute_result"
    }
   ],
   "source": [
    "comments[:10]"
   ]
  },
  {
   "cell_type": "code",
   "execution_count": 129,
   "metadata": {
    "collapsed": true
   },
   "outputs": [],
   "source": [
    "def co_matrix_creator(docs_list, episode_num,\n",
    "                      comatrix_rank_limit=1000, min_frequency=5, verbose=False):\n",
    "    cmts = list()\n",
    "    for doc in docs_list:\n",
    "        cmt = doc[0]\n",
    "        epi = doc[1]\n",
    "        if epi in episode_num:\n",
    "            cmts.append(cmt)\n",
    "    docs_list = cmts\n",
    "    \n",
    "    vectorizer = CountVectorizer(min_df=min_frequency, token_pattern=r'\\S{2,}', lowercase=False)\n",
    "    bag_of_words = vectorizer.fit_transform(docs_list)\n",
    "    \n",
    "    term_frequency = bag_of_words.sum(axis=0).A1\n",
    "    term_names = list(vectorizer.get_feature_names())\n",
    "    termfrequency_dict = dict(Counter(dict(zip(term_names, term_frequency))))\n",
    "    termfrequency_list = sorted(termfrequency_dict, key=lambda x: termfrequency_dict[x], reverse=True)\n",
    "    \n",
    "    low_freq_term = termfrequency_list[comatrix_rank_limit:]\n",
    "    cooccur_matrix = (bag_of_words.T * bag_of_words)\n",
    "    co_matrix_dataframe = pd.DataFrame(data=cooccur_matrix.todense(),\n",
    "                          index=sorted(term_names),\n",
    "                          columns=sorted(term_names))\n",
    "    co_matrix_dataframe = co_matrix_dataframe.drop(low_freq_term, axis='index')\n",
    "    co_matrix_dataframe = co_matrix_dataframe.drop(low_freq_term, axis='columns')\n",
    "    if verbose: print('Co-occurence matrix with top {} words has been generated.'.format(comatrix_rank_limit))\n",
    "    return co_matrix_dataframe"
   ]
  },
  {
   "cell_type": "code",
   "execution_count": 134,
   "metadata": {
    "collapsed": true
   },
   "outputs": [],
   "source": [
    "test = co_matrix_creator(comments, list(range(65)))\n",
    "test.to_csv('./comment_comatrix.csv', sep=';')"
   ]
  }
 ],
 "metadata": {
  "kernelspec": {
   "display_name": "Python 3",
   "language": "python",
   "name": "python3"
  },
  "language_info": {
   "codemirror_mode": {
    "name": "ipython",
    "version": 3
   },
   "file_extension": ".py",
   "mimetype": "text/x-python",
   "name": "python",
   "nbconvert_exporter": "python",
   "pygments_lexer": "ipython3",
   "version": "3.6.3"
  }
 },
 "nbformat": 4,
 "nbformat_minor": 2
}
