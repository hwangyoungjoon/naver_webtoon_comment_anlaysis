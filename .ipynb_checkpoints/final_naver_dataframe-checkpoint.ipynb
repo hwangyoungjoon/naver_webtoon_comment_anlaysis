{
 "cells": [
  {
   "cell_type": "code",
   "execution_count": 4,
   "metadata": {
    "collapsed": true
   },
   "outputs": [],
   "source": [
    "from bs4 import BeautifulSoup\n",
    "import numpy\n",
    "import requests as res\n",
    "from urllib.parse import urlparse, parse_qs, urljoin\n",
    "import json\n",
    "import openpyxl\n",
    "import time\n",
    "import random"
   ]
  },
  {
   "cell_type": "code",
   "execution_count": null,
   "metadata": {
    "collapsed": true
   },
   "outputs": [],
   "source": [
    "random.seed(1287)"
   ]
  },
  {
   "cell_type": "code",
   "execution_count": null,
   "metadata": {
    "collapsed": true
   },
   "outputs": [],
   "source": [
    "# daily webtoon\n",
    "\n",
    "def crawler_daily_webtoon():\n",
    "    get_daily_webtoon=res.get(\"http://comic.naver.com/webtoon/weekday.nhn\")\n",
    "    soup=BeautifulSoup(get_daily_webtoon.content,\"lxml\")\n",
    "    tag=soup.select(\".daily_all a.title\")\n",
    "    webtoon_list=[{\"title\":a.get(\"title\"),\"link\":str(\"http://comic.naver.com\")+a.get(\"href\")} for a in tag]\n",
    "    \n",
    "    return webtoon_list\n",
    "\n",
    "    \n",
    "    "
   ]
  },
  {
   "cell_type": "code",
   "execution_count": null,
   "metadata": {
    "collapsed": true
   },
   "outputs": [],
   "source": [
    "# all_episode\n",
    "\n",
    "def cralwer_episode(webtoon):\n",
    "    target_webtoon=list()\n",
    "    page_num=1\n",
    "    is_unlast=True\n",
    "    while is_unlast:\n",
    "        link=webtoon[\"link\"]+\"&page=\"+str(page_num)\n",
    "        get_page=res.get(link)\n",
    "        page=BeautifulSoup(get_page.content,\"lxml\")\n",
    "        a_tags=page.select(\".viewList td.title a\")\n",
    "        for a_tag in a_tags:\n",
    "            episode=a_tag.text.replace(\"\\n\",\"\").replace(\"\\r\",\"\").replace(\"\\t\",\"\")\n",
    "            episode_url=\"http://comic.naver.com\"+str(a_tag.get(\"href\"))\n",
    "            \n",
    "            if episode_url not in target_webtoon:\n",
    "                target_webtoon.append(episode_url)\n",
    "                \n",
    "            else:\n",
    "                is_unlast=False\n",
    "                \n",
    "        page_num+=1\n",
    "    return target_webtoon\n",
    "\n"
   ]
  },
  {
   "cell_type": "code",
   "execution_count": null,
   "metadata": {
    "collapsed": true
   },
   "outputs": [],
   "source": [
    "def get_comments(soup,url):\n",
    "        title= soup.title.text.split(':')[0]\n",
    "        titleId =str(parse_qs(urlparse(url).query)['titleId'][0]) #웹툰 고유아이디값\n",
    "        no = str(parse_qs(urlparse(url).query)['no'][0])# 웹툰 그 회차 페이지\n",
    "\n",
    "        comment_url = 'http://comic.naver.com' + '/comment/comment.nhn?titleId=' + titleId + '&no=' + no\n",
    "        objectId = titleId + '_' + no\n",
    "        sub_title=soup.select(\".tit_area h3\")\n",
    "        sub_title=sub_title[0].text\n",
    "        page_count = 1\n",
    "\n",
    "        u = 'http://apis.naver.com/commentBox/cbox/web_naver_list_jsonp.json?ticket=comic&templateId=webtoon&pool=cbox3&_callback=jQuery1113012327623800394427_1489937311100&lang=ko&country=KR&objectId=' +objectId+ '&categoryId=&pageSize=15&indexSize=10&groupId=&listType=OBJECT&sort=NEW&_=1489937311112'\n",
    "\n",
    "        comment_list=list()\n",
    "\n",
    "        while True:\n",
    "            comment_url=u+\"&page=\"+str(page_count)\n",
    "            header = {\n",
    "                \"Host\": \"apis.naver.com\",\n",
    "                \"Referer\": \"http://comic.naver.com/comment/comment.nhn?titleId=\" + titleId + \"&no=\" + no,\n",
    "                \"Content-Type\": \"application/javascript\"\n",
    "            }\n",
    "\n",
    "            rq = res.get(comment_url, headers = header)\n",
    "            soup = BeautifulSoup(rq.content, 'lxml')\n",
    "            \n",
    "           \n",
    "            try:\n",
    "                content_text = soup.select('p')[0].text\n",
    "                one = content_text.find('(') + 1\n",
    "                two = content_text.find(');')\n",
    "                content = json.loads(content_text[one:two])\n",
    "\n",
    "                comments = content['result']['commentList']\n",
    "\n",
    "\n",
    "\n",
    "                for comment in comments:\n",
    "                    comment_list.append({\n",
    "                            \"sub_title\":sub_title,\n",
    "                            \"title\": title,\n",
    "                            \"comment\":comment[\"contents\"],\n",
    "                            \"sympathy_count\":comment[\"sympathyCount\"],\n",
    "                             \"episode_num\":no})\n",
    "#                     print(comment[\"contents\"])\n",
    "                if not len(comments):\n",
    "                    return comment_list\n",
    "                    break\n",
    "                    \n",
    "                else:\n",
    "                    page_count += 1\n",
    "            except:\n",
    "                pass"
   ]
  },
  {
   "cell_type": "code",
   "execution_count": null,
   "metadata": {
    "collapsed": true
   },
   "outputs": [],
   "source": [
    "a=crawler_daily_webtoon()"
   ]
  },
  {
   "cell_type": "code",
   "execution_count": null,
   "metadata": {},
   "outputs": [],
   "source": [
    "for ind in a:\n",
    "    if ind[\"title\"]==\"열정호구\":\n",
    "        print(a.index(ind))"
   ]
  },
  {
   "cell_type": "code",
   "execution_count": null,
   "metadata": {},
   "outputs": [],
   "source": [
    "a[46]"
   ]
  },
  {
   "cell_type": "code",
   "execution_count": null,
   "metadata": {
    "collapsed": true
   },
   "outputs": [],
   "source": [
    "fire_hogu=cralwer_episode(a[46])"
   ]
  },
  {
   "cell_type": "code",
   "execution_count": null,
   "metadata": {
    "scrolled": true
   },
   "outputs": [],
   "source": [
    "fire_hogu"
   ]
  },
  {
   "cell_type": "code",
   "execution_count": null,
   "metadata": {
    "collapsed": true
   },
   "outputs": [],
   "source": [
    "import queue\n",
    "import threading\n",
    "\n",
    "\n",
    "all_comments=[]\n",
    "input_queue=queue.Queue()\n",
    "out_queue=queue.Queue()\n",
    "\n",
    "class Input_Thread(threading.Thread):\n",
    "    def __init__(self,input_queue,out_queue):\n",
    "        \n",
    "        threading.Thread.__init__(self)\n",
    "        self.input_queue=input_queue\n",
    "        self.out_queue=out_queue\n",
    "    \n",
    "    def run(self):\n",
    "        while True:\n",
    "            url=self.input_queue.get()\n",
    "#             rt=res.get(url)\n",
    "#             soup=BeautifulSoup(rt.content,\"lxml\")\n",
    "            self.out_queue.put(url)\n",
    "            \n",
    "            \n",
    "            self.input_queue.task_done()\n",
    "\n",
    "\n",
    "\n",
    "class Output_Thread(threading.Thread):\n",
    "    def __init__(self,out_queue):\n",
    "        \n",
    "        threading.Thread.__init__(self)\n",
    "        self.out_queue=out_queue\n",
    "    \n",
    "    def run(self):\n",
    "        while True:\n",
    "            data=self.out_queue.get()\n",
    "            rt=res.get(data)\n",
    "            soup=BeautifulSoup(rt.content,\"lxml\")\n",
    "            time.sleep(random.uniform(2.1,2.8))\n",
    "            get_comments(soup,data)\n",
    "            \n",
    "            self.out_queue.task_done()\n",
    "\n",
    "\n",
    "            \n",
    "            "
   ]
  },
  {
   "cell_type": "code",
   "execution_count": null,
   "metadata": {},
   "outputs": [],
   "source": [
    "fire_hogu[-2:]"
   ]
  },
  {
   "cell_type": "code",
   "execution_count": null,
   "metadata": {
    "collapsed": true,
    "scrolled": true
   },
   "outputs": [],
   "source": [
    "\n",
    "for i in fire_hogu[-2:]:\n",
    "    th=Input_Thread(input_queue,out_queue)\n",
    "    th.setDaemon(True)\n",
    "    th.start()\n",
    "    \n",
    "for epi in fire_hogu[-2:]:\n",
    "    input_queue.put(epi)\n",
    "\n",
    "for epi1 in range(2):\n",
    "    out=Output_Thread(out_queue)\n",
    "    out.setDaemon(True)\n",
    "    out.start()\n",
    "    \n",
    "input_queue.join()\n",
    "out_queue.join()"
   ]
  },
  {
   "cell_type": "code",
   "execution_count": null,
   "metadata": {
    "collapsed": true
   },
   "outputs": [],
   "source": [
    "print(1)"
   ]
  },
  {
   "cell_type": "code",
   "execution_count": null,
   "metadata": {
    "collapsed": true,
    "scrolled": true
   },
   "outputs": [],
   "source": [
    "def multi_crawl(webtoon_episode_list,que):\n",
    "    \n",
    "    if int(len(webtoon_episode_list)%5)!=0: #나머지가 존재한다면\n",
    "            unit=int(len(webtoon_episode_list)//5)\n",
    "            surplus=int(len(webtoon_episode_list)%5)\n",
    "            \n",
    "            # 몫으로 배분된 웹툰 페이지 크롤링\n",
    "            for i in range(int(len(webtoon_episode_list)/5)):\n",
    "                a=[]\n",
    "                a=webtoon_episode_list[i*5:i*5+5]\n",
    "                thread_list=[]\n",
    "                for url in a:\n",
    "                    rt=res.get(url)\n",
    "                    soup=BeautifulSoup(rt.content,\"lxml\")\n",
    "                    worker=Thread(target=get_comments,args=(soup,url))\n",
    "                    worker.setDaemon(True)\n",
    "                    thread_list.append(worker)\n",
    "                    worker.start()\n",
    "                \n",
    "                for end in thread_list:\n",
    "                    end.join()\n",
    "                    \n",
    "                    \n",
    "            # 나머지 페이지 크롤링\n",
    "            thread_list=[]\n",
    "            for url in webtoon_episode_list[-surplus:]:\n",
    "                rt=res.get(url)\n",
    "                soup=BeautifulSoup(rt.content,\"lxml\")\n",
    "                worker=Thread(target=get_comments,args=(soup,url))\n",
    "                worker.setDaemon(True)\n",
    "                thread_list.append(worker)\n",
    "                worker.start()\n",
    "\n",
    "            for end in thread_list:\n",
    "                end.join()\n",
    "                \n",
    "                \n",
    "            return que\n",
    "\n",
    "    else:\n",
    "           for i in range(int(len(webtoon_episode_list)/5)):\n",
    "                a=[]\n",
    "                a=webtoon_episode_list[i*5:i*5+5]\n",
    "                thread_list=[]\n",
    "                for url in a:\n",
    "                    rt=res.get(url)\n",
    "                    soup=BeautifulSoup(rt.content,\"lxml\")\n",
    "                    worker=Thread(target=get_comments,args=(soup,url,que))\n",
    "                    worker.setDaemon(True)\n",
    "                    thread_list.append(worker)\n",
    "                    worker.start()\n",
    "                \n",
    "                for end in thread_list:\n",
    "                    end.join()\n",
    "                    \n",
    "           return que\n",
    "                 "
   ]
  },
  {
   "cell_type": "code",
   "execution_count": null,
   "metadata": {
    "collapsed": true,
    "scrolled": true
   },
   "outputs": [],
   "source": [
    "import queue\n",
    "from threading import Thread\n",
    "que=queue.Queue()\n",
    "multi_crawl(fire_hogu[:12],que)"
   ]
  },
  {
   "cell_type": "code",
   "execution_count": null,
   "metadata": {
    "collapsed": true
   },
   "outputs": [],
   "source": [
    "import queue\n",
    "from threading import Thread"
   ]
  },
  {
   "cell_type": "code",
   "execution_count": null,
   "metadata": {},
   "outputs": [],
   "source": [
    "fire_hogu[-1:]"
   ]
  },
  {
   "cell_type": "code",
   "execution_count": null,
   "metadata": {
    "scrolled": true
   },
   "outputs": [],
   "source": [
    "\n",
    "\n",
    "all_comments=list()\n",
    "for episode in fire_hogu[-1:]:\n",
    "    \n",
    "    rt=res.get(episode)\n",
    "    soup=BeautifulSoup(rt.content,\"lxml\")\n",
    "    \n",
    "    all_comments.append(get_comments(soup,episode))\n",
    "    time.sleep(random.uniform(2.0,3.1))"
   ]
  },
  {
   "cell_type": "code",
   "execution_count": null,
   "metadata": {},
   "outputs": [],
   "source": [
    "print((random.uniform(1.2,1.8)))"
   ]
  },
  {
   "cell_type": "code",
   "execution_count": null,
   "metadata": {
    "collapsed": true
   },
   "outputs": [],
   "source": [
    "all_comments"
   ]
  },
  {
   "cell_type": "code",
   "execution_count": null,
   "metadata": {
    "collapsed": true
   },
   "outputs": [],
   "source": [
    "from multiprocessing import Pool\n",
    "\n"
   ]
  },
  {
   "cell_type": "markdown",
   "metadata": {},
   "source": [
    "# Queue to Dataframe\n",
    "---"
   ]
  },
  {
   "cell_type": "code",
   "execution_count": null,
   "metadata": {
    "collapsed": true
   },
   "outputs": [],
   "source": [
    "import pandas as pd"
   ]
  },
  {
   "cell_type": "code",
   "execution_count": null,
   "metadata": {
    "collapsed": true,
    "scrolled": true
   },
   "outputs": [],
   "source": [
    "data=pd.DataFrame(all_comments[0])"
   ]
  },
  {
   "cell_type": "code",
   "execution_count": null,
   "metadata": {
    "collapsed": true
   },
   "outputs": [],
   "source": [
    "data1=pd.DataFrame(all_comments[1])\n",
    "\n",
    "merge=pd.concat([data,data1],ignore_index=True)\n",
    "len(merge)"
   ]
  },
  {
   "cell_type": "code",
   "execution_count": null,
   "metadata": {
    "collapsed": true
   },
   "outputs": [],
   "source": [
    "first=pd.DataFrame()\n",
    "for one_episode in all_comments:\n",
    "    data=pd.DataFrame(one_episode)\n",
    "    first=pd.concat([first,data],ignore_index=True)\n",
    "    \n",
    "    "
   ]
  },
  {
   "cell_type": "code",
   "execution_count": null,
   "metadata": {
    "collapsed": true,
    "scrolled": true
   },
   "outputs": [],
   "source": [
    "len(first)"
   ]
  },
  {
   "cell_type": "code",
   "execution_count": null,
   "metadata": {
    "collapsed": true
   },
   "outputs": [],
   "source": [
    "writer=pd.ExcelWriter(\"outpu_final.xlsx\")\n",
    "writer=pd.\n",
    "\n",
    "v first.to_excel(writer,'Sheet1')\n",
    "writer.save()"
   ]
  },
  {
   "cell_type": "code",
   "execution_count": null,
   "metadata": {
    "collapsed": true
   },
   "outputs": [],
   "source": [
    "df_1=data.groupby([\"comment\",\"sympathy_count\"])"
   ]
  },
  {
   "cell_type": "code",
   "execution_count": null,
   "metadata": {
    "collapsed": true
   },
   "outputs": [],
   "source": [
    "exact_large=first.nlargest(1000,\"sympathy_count\")"
   ]
  },
  {
   "cell_type": "code",
   "execution_count": null,
   "metadata": {
    "collapsed": true
   },
   "outputs": [],
   "source": [
    "writer1=pd.ExcelWriter(\"greateest_count.xlsx\")\n",
    "exact_large.to_excel(writer1,\"Sheet1\")\n",
    "writer1.save()"
   ]
  },
  {
   "cell_type": "code",
   "execution_count": null,
   "metadata": {},
   "outputs": [],
   "source": [
    "import threading, queue \n",
    "import time \n",
    "\n",
    "\n",
    "class Catcher(threading.Thread): \n",
    "    # Thread Extends \n",
    "    def __init__(self, id, dataQueue): \n",
    "        threading.Thread.__init__(self) \n",
    "        self.id = id \n",
    "        # for print \n",
    "        self.dataQueue = dataQueue # data queue \n",
    "    def run(self): \n",
    "        while True:\t# thread task \n",
    "            data = self.dataQueue.get()\t# queue element get \n",
    "            print(\"[\" + str(self.id) + \" : \" + str(data) + \"]\") \n",
    "            self.dataQueue.task_done()\t# work done notify to queue \n",
    "def main(): \n",
    "    StringQueue = queue.Queue()\t# create queue \n",
    "    \n",
    "    for i in range(10000):\n",
    "        StringQueue.put(i)\t# put data \n",
    "    \n",
    "    cat1 = Catcher(\"A\", StringQueue)\t# declare thread obj \n",
    "    cat1.setDaemon(True) \n",
    "    cat2 = Catcher(\"B\", StringQueue) \n",
    "    cat2.setDaemon(True)\n",
    "    cat3 = Catcher(\"C\", StringQueue) \n",
    "    cat3.setDaemon(True)\n",
    "    \n",
    "    cat1.start()\t# thread start \n",
    "    cat2.start() \n",
    "    cat3.start()\n",
    "    StringQueue.put(3)\n",
    "    StringQueue.put(4) \n",
    "    \n",
    "     \n",
    "if __name__ == \"__main__\": main()\n",
    "\n",
    "# 출처: http://hurderella.tistory.com/86 [Hurderella]"
   ]
  },
  {
   "cell_type": "code",
   "execution_count": 7,
   "metadata": {},
   "outputs": [],
   "source": [
    "u = 'http://apis.naver.com/commentBox/cbox/web_naver_list_jsonp.json?ticket=comic&templateId=webtoon&pool=cbox3&_callback=jQuery1113012327623800394427_1489937311100&lang=ko&country=KR&objectId=686312_0&categoryId=&pageSize=15&indexSize=10&groupId=&listType=OBJECT&sort=NEW&_=1489937311112'\n",
    "# objectId = titleId + '_' + no\n",
    "#         /comment_list = list()\n",
    "\n",
    "#         while True:\n",
    "comment_url = u + \"&page=\" + \"5\"\n",
    "header = {\n",
    "\"Host\": \"apis.naver.com\",\n",
    "\"Referer\": \"http://comic.naver.com/comment/comment.nhn?titleId=\" +\"686312\"+ \"&no=\" +\"5\",\n",
    "\"Content-Type\": \"application/javascript\"\n",
    "}\n",
    "# time.sleep(5)\n",
    "rq = res.get(comment_url, headers=header)\n",
    "\n",
    "soup = BeautifulSoup(rq.content, 'lxml')\n"
   ]
  },
  {
   "cell_type": "code",
   "execution_count": null,
   "metadata": {
    "collapsed": true
   },
   "outputs": [],
   "source": []
  },
  {
   "cell_type": "code",
   "execution_count": null,
   "metadata": {
    "collapsed": true
   },
   "outputs": [],
   "source": []
  },
  {
   "cell_type": "code",
   "execution_count": null,
   "metadata": {
    "collapsed": true
   },
   "outputs": [],
   "source": []
  },
  {
   "cell_type": "code",
   "execution_count": null,
   "metadata": {
    "collapsed": true
   },
   "outputs": [],
   "source": []
  }
 ],
 "metadata": {
  "anaconda-cloud": {},
  "kernelspec": {
   "display_name": "Python 3",
   "language": "python",
   "name": "python3"
  },
  "language_info": {
   "codemirror_mode": {
    "name": "ipython",
    "version": 3
   },
   "file_extension": ".py",
   "mimetype": "text/x-python",
   "name": "python",
   "nbconvert_exporter": "python",
   "pygments_lexer": "ipython3",
   "version": "3.6.3"
  }
 },
 "nbformat": 4,
 "nbformat_minor": 1
}
